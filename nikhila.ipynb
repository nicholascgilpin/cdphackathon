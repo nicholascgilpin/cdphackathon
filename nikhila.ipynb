{
 "cells": [
  {
   "cell_type": "code",
   "execution_count": 2,
   "metadata": {},
   "outputs": [],
   "source": [
    "import pandas as pd\n",
    "import numpy as np\n",
    "import seaborn as sns                       #visualisation\n",
    "import matplotlib.pyplot as plt             #visualisation\n",
    "%matplotlib inline     \n",
    "sns.set(color_codes=True)"
   ]
  },
  {
   "cell_type": "code",
   "execution_count": 35,
   "metadata": {
    "scrolled": false
   },
   "outputs": [
    {
     "data": {
      "text/html": [
       "<div>\n",
       "<style scoped>\n",
       "    .dataframe tbody tr th:only-of-type {\n",
       "        vertical-align: middle;\n",
       "    }\n",
       "\n",
       "    .dataframe tbody tr th {\n",
       "        vertical-align: top;\n",
       "    }\n",
       "\n",
       "    .dataframe thead th {\n",
       "        text-align: right;\n",
       "    }\n",
       "</style>\n",
       "<table border=\"1\" class=\"dataframe\">\n",
       "  <thead>\n",
       "    <tr style=\"text-align: right;\">\n",
       "      <th></th>\n",
       "      <th>Project Year</th>\n",
       "      <th>Account Number</th>\n",
       "      <th>Account Name</th>\n",
       "      <th>Question Number</th>\n",
       "      <th>Question Name</th>\n",
       "      <th>Row Number</th>\n",
       "      <th>Row Name</th>\n",
       "      <th>Column Number</th>\n",
       "      <th>Column Name</th>\n",
       "      <th>Response Answer</th>\n",
       "    </tr>\n",
       "  </thead>\n",
       "  <tbody>\n",
       "    <tr>\n",
       "      <th>0</th>\n",
       "      <td>2015</td>\n",
       "      <td>58</td>\n",
       "      <td>ABM INDUSTRIES INC</td>\n",
       "      <td>CC0.1</td>\n",
       "      <td>Introduction Please give a general descriptio...</td>\n",
       "      <td>1</td>\n",
       "      <td>NaN</td>\n",
       "      <td>C0a</td>\n",
       "      <td>NaN</td>\n",
       "      <td>ABM (NYSE: ABM) is a leading provider of facil...</td>\n",
       "    </tr>\n",
       "    <tr>\n",
       "      <th>1</th>\n",
       "      <td>2015</td>\n",
       "      <td>64</td>\n",
       "      <td>Abbott Laboratories</td>\n",
       "      <td>CC0.1</td>\n",
       "      <td>Introduction Please give a general descriptio...</td>\n",
       "      <td>1</td>\n",
       "      <td>NaN</td>\n",
       "      <td>C0a</td>\n",
       "      <td>NaN</td>\n",
       "      <td>NaN</td>\n",
       "    </tr>\n",
       "    <tr>\n",
       "      <th>2</th>\n",
       "      <td>2015</td>\n",
       "      <td>119</td>\n",
       "      <td>Resolute Forest Products Inc.</td>\n",
       "      <td>CC0.1</td>\n",
       "      <td>Introduction Please give a general descriptio...</td>\n",
       "      <td>1</td>\n",
       "      <td>NaN</td>\n",
       "      <td>C0a</td>\n",
       "      <td>NaN</td>\n",
       "      <td>NaN</td>\n",
       "    </tr>\n",
       "    <tr>\n",
       "      <th>3</th>\n",
       "      <td>2015</td>\n",
       "      <td>234</td>\n",
       "      <td>Advanced Call Center Technologies, LLC</td>\n",
       "      <td>CC0.1</td>\n",
       "      <td>Introduction Please give a general descriptio...</td>\n",
       "      <td>1</td>\n",
       "      <td>NaN</td>\n",
       "      <td>C0a</td>\n",
       "      <td>NaN</td>\n",
       "      <td>ACT is domestic (USA) outsourced call center s...</td>\n",
       "    </tr>\n",
       "    <tr>\n",
       "      <th>4</th>\n",
       "      <td>2015</td>\n",
       "      <td>285</td>\n",
       "      <td>3M Company</td>\n",
       "      <td>CC0.1</td>\n",
       "      <td>Introduction Please give a general descriptio...</td>\n",
       "      <td>1</td>\n",
       "      <td>NaN</td>\n",
       "      <td>C0a</td>\n",
       "      <td>NaN</td>\n",
       "      <td>NaN</td>\n",
       "    </tr>\n",
       "  </tbody>\n",
       "</table>\n",
       "</div>"
      ],
      "text/plain": [
       "   Project Year  Account Number                            Account Name  \\\n",
       "0          2015              58                      ABM INDUSTRIES INC   \n",
       "1          2015              64                     Abbott Laboratories   \n",
       "2          2015             119           Resolute Forest Products Inc.   \n",
       "3          2015             234  Advanced Call Center Technologies, LLC   \n",
       "4          2015             285                              3M Company   \n",
       "\n",
       "  Question Number                                      Question Name  \\\n",
       "0           CC0.1   Introduction Please give a general descriptio...   \n",
       "1           CC0.1   Introduction Please give a general descriptio...   \n",
       "2           CC0.1   Introduction Please give a general descriptio...   \n",
       "3           CC0.1   Introduction Please give a general descriptio...   \n",
       "4           CC0.1   Introduction Please give a general descriptio...   \n",
       "\n",
       "   Row Number  Row Name Column Number Column Name  \\\n",
       "0           1       NaN           C0a         NaN   \n",
       "1           1       NaN           C0a         NaN   \n",
       "2           1       NaN           C0a         NaN   \n",
       "3           1       NaN           C0a         NaN   \n",
       "4           1       NaN           C0a         NaN   \n",
       "\n",
       "                                     Response Answer  \n",
       "0  ABM (NYSE: ABM) is a leading provider of facil...  \n",
       "1                                                NaN  \n",
       "2                                                NaN  \n",
       "3  ACT is domestic (USA) outsourced call center s...  \n",
       "4                                                NaN  "
      ]
     },
     "execution_count": 35,
     "metadata": {},
     "output_type": "execute_result"
    }
   ],
   "source": [
    "df = pd.read_csv(\"./dataset/2015-2017_CorporateCC_mb2.csv\",engine = 'python')\n",
    "# To display the top 5 rows \n",
    "df.head(5)"
   ]
  },
  {
   "cell_type": "markdown",
   "metadata": {},
   "source": [
    "**Check the data types**"
   ]
  },
  {
   "cell_type": "code",
   "execution_count": 13,
   "metadata": {},
   "outputs": [
    {
     "data": {
      "text/plain": [
       "Project Year         int64\n",
       "Account Number       int64\n",
       "Account Name        object\n",
       "Question Number     object\n",
       "Question Name       object\n",
       "Row Number           int64\n",
       "Row Name           float64\n",
       "Column Number       object\n",
       "Column Name         object\n",
       "Response Answer     object\n",
       "dtype: object"
      ]
     },
     "execution_count": 13,
     "metadata": {},
     "output_type": "execute_result"
    }
   ],
   "source": [
    "df.dtypes"
   ]
  },
  {
   "cell_type": "code",
   "execution_count": 22,
   "metadata": {},
   "outputs": [
    {
     "data": {
      "text/plain": [
       "Project Year       716739\n",
       "Account Number     716739\n",
       "Account Name       716739\n",
       "Question Number    716739\n",
       "Question Name      709365\n",
       "Row Number         716739\n",
       "Row Name                0\n",
       "Column Number      709365\n",
       "Column Name        682533\n",
       "Response Answer    382545\n",
       "dtype: int64"
      ]
     },
     "execution_count": 22,
     "metadata": {},
     "output_type": "execute_result"
    }
   ],
   "source": [
    "df.count()"
   ]
  },
  {
   "cell_type": "markdown",
   "metadata": {},
   "source": [
    "**Check for null values in the dataset**"
   ]
  },
  {
   "cell_type": "code",
   "execution_count": 23,
   "metadata": {},
   "outputs": [
    {
     "data": {
      "text/plain": [
       "716739"
      ]
     },
     "execution_count": 23,
     "metadata": {},
     "output_type": "execute_result"
    }
   ],
   "source": [
    "df['Row Name'].isnull().sum()"
   ]
  },
  {
   "cell_type": "code",
   "execution_count": null,
   "metadata": {},
   "outputs": [],
   "source": [
    "#Since the column Row name all the values are blank. We may completely eliminate the column Row Name"
   ]
  },
  {
   "cell_type": "markdown",
   "metadata": {},
   "source": [
    "**Remove the column Row Name**"
   ]
  },
  {
   "cell_type": "code",
   "execution_count": 37,
   "metadata": {},
   "outputs": [
    {
     "data": {
      "text/html": [
       "<div>\n",
       "<style scoped>\n",
       "    .dataframe tbody tr th:only-of-type {\n",
       "        vertical-align: middle;\n",
       "    }\n",
       "\n",
       "    .dataframe tbody tr th {\n",
       "        vertical-align: top;\n",
       "    }\n",
       "\n",
       "    .dataframe thead th {\n",
       "        text-align: right;\n",
       "    }\n",
       "</style>\n",
       "<table border=\"1\" class=\"dataframe\">\n",
       "  <thead>\n",
       "    <tr style=\"text-align: right;\">\n",
       "      <th></th>\n",
       "      <th>Project Year</th>\n",
       "      <th>Account Number</th>\n",
       "      <th>Account Name</th>\n",
       "      <th>Question Number</th>\n",
       "      <th>Question Name</th>\n",
       "      <th>Row Number</th>\n",
       "      <th>Column Number</th>\n",
       "      <th>Column Name</th>\n",
       "      <th>Response Answer</th>\n",
       "    </tr>\n",
       "  </thead>\n",
       "  <tbody>\n",
       "    <tr>\n",
       "      <th>0</th>\n",
       "      <td>2015</td>\n",
       "      <td>58</td>\n",
       "      <td>ABM INDUSTRIES INC</td>\n",
       "      <td>CC0.1</td>\n",
       "      <td>Introduction Please give a general descriptio...</td>\n",
       "      <td>1</td>\n",
       "      <td>C0a</td>\n",
       "      <td>NaN</td>\n",
       "      <td>ABM (NYSE: ABM) is a leading provider of facil...</td>\n",
       "    </tr>\n",
       "    <tr>\n",
       "      <th>1</th>\n",
       "      <td>2015</td>\n",
       "      <td>64</td>\n",
       "      <td>Abbott Laboratories</td>\n",
       "      <td>CC0.1</td>\n",
       "      <td>Introduction Please give a general descriptio...</td>\n",
       "      <td>1</td>\n",
       "      <td>C0a</td>\n",
       "      <td>NaN</td>\n",
       "      <td>NaN</td>\n",
       "    </tr>\n",
       "    <tr>\n",
       "      <th>2</th>\n",
       "      <td>2015</td>\n",
       "      <td>119</td>\n",
       "      <td>Resolute Forest Products Inc.</td>\n",
       "      <td>CC0.1</td>\n",
       "      <td>Introduction Please give a general descriptio...</td>\n",
       "      <td>1</td>\n",
       "      <td>C0a</td>\n",
       "      <td>NaN</td>\n",
       "      <td>NaN</td>\n",
       "    </tr>\n",
       "    <tr>\n",
       "      <th>3</th>\n",
       "      <td>2015</td>\n",
       "      <td>234</td>\n",
       "      <td>Advanced Call Center Technologies, LLC</td>\n",
       "      <td>CC0.1</td>\n",
       "      <td>Introduction Please give a general descriptio...</td>\n",
       "      <td>1</td>\n",
       "      <td>C0a</td>\n",
       "      <td>NaN</td>\n",
       "      <td>ACT is domestic (USA) outsourced call center s...</td>\n",
       "    </tr>\n",
       "    <tr>\n",
       "      <th>4</th>\n",
       "      <td>2015</td>\n",
       "      <td>285</td>\n",
       "      <td>3M Company</td>\n",
       "      <td>CC0.1</td>\n",
       "      <td>Introduction Please give a general descriptio...</td>\n",
       "      <td>1</td>\n",
       "      <td>C0a</td>\n",
       "      <td>NaN</td>\n",
       "      <td>NaN</td>\n",
       "    </tr>\n",
       "  </tbody>\n",
       "</table>\n",
       "</div>"
      ],
      "text/plain": [
       "   Project Year  Account Number                            Account Name  \\\n",
       "0          2015              58                      ABM INDUSTRIES INC   \n",
       "1          2015              64                     Abbott Laboratories   \n",
       "2          2015             119           Resolute Forest Products Inc.   \n",
       "3          2015             234  Advanced Call Center Technologies, LLC   \n",
       "4          2015             285                              3M Company   \n",
       "\n",
       "  Question Number                                      Question Name  \\\n",
       "0           CC0.1   Introduction Please give a general descriptio...   \n",
       "1           CC0.1   Introduction Please give a general descriptio...   \n",
       "2           CC0.1   Introduction Please give a general descriptio...   \n",
       "3           CC0.1   Introduction Please give a general descriptio...   \n",
       "4           CC0.1   Introduction Please give a general descriptio...   \n",
       "\n",
       "   Row Number Column Number Column Name  \\\n",
       "0           1           C0a         NaN   \n",
       "1           1           C0a         NaN   \n",
       "2           1           C0a         NaN   \n",
       "3           1           C0a         NaN   \n",
       "4           1           C0a         NaN   \n",
       "\n",
       "                                     Response Answer  \n",
       "0  ABM (NYSE: ABM) is a leading provider of facil...  \n",
       "1                                                NaN  \n",
       "2                                                NaN  \n",
       "3  ACT is domestic (USA) outsourced call center s...  \n",
       "4                                                NaN  "
      ]
     },
     "execution_count": 37,
     "metadata": {},
     "output_type": "execute_result"
    }
   ],
   "source": [
    "df = df.drop(['Row Name'], axis=1)\n",
    "\n",
    "#del df['Row Name']\n",
    "#df = df.drop('Row Name', axis=1)\n",
    "df.head(5)\n"
   ]
  },
  {
   "cell_type": "markdown",
   "metadata": {},
   "source": [
    "**Rename the column names Account name, Account Number**"
   ]
  },
  {
   "cell_type": "code",
   "execution_count": 53,
   "metadata": {},
   "outputs": [
    {
     "data": {
      "text/html": [
       "<div>\n",
       "<style scoped>\n",
       "    .dataframe tbody tr th:only-of-type {\n",
       "        vertical-align: middle;\n",
       "    }\n",
       "\n",
       "    .dataframe tbody tr th {\n",
       "        vertical-align: top;\n",
       "    }\n",
       "\n",
       "    .dataframe thead th {\n",
       "        text-align: right;\n",
       "    }\n",
       "</style>\n",
       "<table border=\"1\" class=\"dataframe\">\n",
       "  <thead>\n",
       "    <tr style=\"text-align: right;\">\n",
       "      <th></th>\n",
       "      <th>Project Year</th>\n",
       "      <th>City_unique_key</th>\n",
       "      <th>City</th>\n",
       "      <th>Question Number</th>\n",
       "      <th>Question Name</th>\n",
       "      <th>Row Number</th>\n",
       "      <th>Column Number</th>\n",
       "      <th>Column Name</th>\n",
       "      <th>Response Answer</th>\n",
       "    </tr>\n",
       "  </thead>\n",
       "  <tbody>\n",
       "    <tr>\n",
       "      <th>0</th>\n",
       "      <td>2015</td>\n",
       "      <td>58</td>\n",
       "      <td>ABM INDUSTRIES INC</td>\n",
       "      <td>CC0.1</td>\n",
       "      <td>Introduction Please give a general descriptio...</td>\n",
       "      <td>1</td>\n",
       "      <td>C0a</td>\n",
       "      <td>NaN</td>\n",
       "      <td>ABM (NYSE: ABM) is a leading provider of facil...</td>\n",
       "    </tr>\n",
       "    <tr>\n",
       "      <th>1</th>\n",
       "      <td>2015</td>\n",
       "      <td>64</td>\n",
       "      <td>Abbott Laboratories</td>\n",
       "      <td>CC0.1</td>\n",
       "      <td>Introduction Please give a general descriptio...</td>\n",
       "      <td>1</td>\n",
       "      <td>C0a</td>\n",
       "      <td>NaN</td>\n",
       "      <td>NaN</td>\n",
       "    </tr>\n",
       "    <tr>\n",
       "      <th>2</th>\n",
       "      <td>2015</td>\n",
       "      <td>119</td>\n",
       "      <td>Resolute Forest Products Inc.</td>\n",
       "      <td>CC0.1</td>\n",
       "      <td>Introduction Please give a general descriptio...</td>\n",
       "      <td>1</td>\n",
       "      <td>C0a</td>\n",
       "      <td>NaN</td>\n",
       "      <td>NaN</td>\n",
       "    </tr>\n",
       "    <tr>\n",
       "      <th>3</th>\n",
       "      <td>2015</td>\n",
       "      <td>234</td>\n",
       "      <td>Advanced Call Center Technologies, LLC</td>\n",
       "      <td>CC0.1</td>\n",
       "      <td>Introduction Please give a general descriptio...</td>\n",
       "      <td>1</td>\n",
       "      <td>C0a</td>\n",
       "      <td>NaN</td>\n",
       "      <td>ACT is domestic (USA) outsourced call center s...</td>\n",
       "    </tr>\n",
       "    <tr>\n",
       "      <th>4</th>\n",
       "      <td>2015</td>\n",
       "      <td>285</td>\n",
       "      <td>3M Company</td>\n",
       "      <td>CC0.1</td>\n",
       "      <td>Introduction Please give a general descriptio...</td>\n",
       "      <td>1</td>\n",
       "      <td>C0a</td>\n",
       "      <td>NaN</td>\n",
       "      <td>NaN</td>\n",
       "    </tr>\n",
       "  </tbody>\n",
       "</table>\n",
       "</div>"
      ],
      "text/plain": [
       "   Project Year  City_unique_key                                    City  \\\n",
       "0          2015               58                      ABM INDUSTRIES INC   \n",
       "1          2015               64                     Abbott Laboratories   \n",
       "2          2015              119           Resolute Forest Products Inc.   \n",
       "3          2015              234  Advanced Call Center Technologies, LLC   \n",
       "4          2015              285                              3M Company   \n",
       "\n",
       "  Question Number                                      Question Name  \\\n",
       "0           CC0.1   Introduction Please give a general descriptio...   \n",
       "1           CC0.1   Introduction Please give a general descriptio...   \n",
       "2           CC0.1   Introduction Please give a general descriptio...   \n",
       "3           CC0.1   Introduction Please give a general descriptio...   \n",
       "4           CC0.1   Introduction Please give a general descriptio...   \n",
       "\n",
       "   Row Number Column Number Column Name  \\\n",
       "0           1           C0a         NaN   \n",
       "1           1           C0a         NaN   \n",
       "2           1           C0a         NaN   \n",
       "3           1           C0a         NaN   \n",
       "4           1           C0a         NaN   \n",
       "\n",
       "                                     Response Answer  \n",
       "0  ABM (NYSE: ABM) is a leading provider of facil...  \n",
       "1                                                NaN  \n",
       "2                                                NaN  \n",
       "3  ACT is domestic (USA) outsourced call center s...  \n",
       "4                                                NaN  "
      ]
     },
     "execution_count": 53,
     "metadata": {},
     "output_type": "execute_result"
    }
   ],
   "source": [
    "df = df.rename(columns={\"Account Name\": \"City\", \"Account Number\":\"City_unique_key\" })\n",
    "df.head(5)"
   ]
  },
  {
   "cell_type": "code",
   "execution_count": 59,
   "metadata": {},
   "outputs": [
    {
     "data": {
      "text/plain": [
       "(716739, 9)"
      ]
     },
     "execution_count": 59,
     "metadata": {},
     "output_type": "execute_result"
    }
   ],
   "source": [
    "df.shape"
   ]
  },
  {
   "cell_type": "markdown",
   "metadata": {},
   "source": [
    "**Remove duplicate rows**"
   ]
  },
  {
   "cell_type": "code",
   "execution_count": 56,
   "metadata": {},
   "outputs": [
    {
     "name": "stdout",
     "output_type": "stream",
     "text": [
      "number of duplicate rows:  (7620, 9)\n"
     ]
    }
   ],
   "source": [
    "duplicate_rows_df = df[df.duplicated()]\n",
    "print(\"number of duplicate rows: \", duplicate_rows_df.shape)"
   ]
  },
  {
   "cell_type": "code",
   "execution_count": 60,
   "metadata": {},
   "outputs": [
    {
     "data": {
      "text/plain": [
       "Project Year       716739\n",
       "City_unique_key    716739\n",
       "City               716739\n",
       "Question Number    716739\n",
       "Question Name      709365\n",
       "Row Number         716739\n",
       "Column Number      709365\n",
       "Column Name        682533\n",
       "Response Answer    382545\n",
       "dtype: int64"
      ]
     },
     "execution_count": 60,
     "metadata": {},
     "output_type": "execute_result"
    }
   ],
   "source": [
    "df.count()"
   ]
  },
  {
   "cell_type": "code",
   "execution_count": 61,
   "metadata": {},
   "outputs": [
    {
     "data": {
      "text/html": [
       "<div>\n",
       "<style scoped>\n",
       "    .dataframe tbody tr th:only-of-type {\n",
       "        vertical-align: middle;\n",
       "    }\n",
       "\n",
       "    .dataframe tbody tr th {\n",
       "        vertical-align: top;\n",
       "    }\n",
       "\n",
       "    .dataframe thead th {\n",
       "        text-align: right;\n",
       "    }\n",
       "</style>\n",
       "<table border=\"1\" class=\"dataframe\">\n",
       "  <thead>\n",
       "    <tr style=\"text-align: right;\">\n",
       "      <th></th>\n",
       "      <th>Project Year</th>\n",
       "      <th>City_unique_key</th>\n",
       "      <th>City</th>\n",
       "      <th>Question Number</th>\n",
       "      <th>Question Name</th>\n",
       "      <th>Row Number</th>\n",
       "      <th>Column Number</th>\n",
       "      <th>Column Name</th>\n",
       "      <th>Response Answer</th>\n",
       "    </tr>\n",
       "  </thead>\n",
       "  <tbody>\n",
       "    <tr>\n",
       "      <th>0</th>\n",
       "      <td>2015</td>\n",
       "      <td>58</td>\n",
       "      <td>ABM INDUSTRIES INC</td>\n",
       "      <td>CC0.1</td>\n",
       "      <td>Introduction Please give a general descriptio...</td>\n",
       "      <td>1</td>\n",
       "      <td>C0a</td>\n",
       "      <td>NaN</td>\n",
       "      <td>ABM (NYSE: ABM) is a leading provider of facil...</td>\n",
       "    </tr>\n",
       "    <tr>\n",
       "      <th>1</th>\n",
       "      <td>2015</td>\n",
       "      <td>64</td>\n",
       "      <td>Abbott Laboratories</td>\n",
       "      <td>CC0.1</td>\n",
       "      <td>Introduction Please give a general descriptio...</td>\n",
       "      <td>1</td>\n",
       "      <td>C0a</td>\n",
       "      <td>NaN</td>\n",
       "      <td>NaN</td>\n",
       "    </tr>\n",
       "    <tr>\n",
       "      <th>2</th>\n",
       "      <td>2015</td>\n",
       "      <td>119</td>\n",
       "      <td>Resolute Forest Products Inc.</td>\n",
       "      <td>CC0.1</td>\n",
       "      <td>Introduction Please give a general descriptio...</td>\n",
       "      <td>1</td>\n",
       "      <td>C0a</td>\n",
       "      <td>NaN</td>\n",
       "      <td>NaN</td>\n",
       "    </tr>\n",
       "    <tr>\n",
       "      <th>3</th>\n",
       "      <td>2015</td>\n",
       "      <td>234</td>\n",
       "      <td>Advanced Call Center Technologies, LLC</td>\n",
       "      <td>CC0.1</td>\n",
       "      <td>Introduction Please give a general descriptio...</td>\n",
       "      <td>1</td>\n",
       "      <td>C0a</td>\n",
       "      <td>NaN</td>\n",
       "      <td>ACT is domestic (USA) outsourced call center s...</td>\n",
       "    </tr>\n",
       "    <tr>\n",
       "      <th>4</th>\n",
       "      <td>2015</td>\n",
       "      <td>285</td>\n",
       "      <td>3M Company</td>\n",
       "      <td>CC0.1</td>\n",
       "      <td>Introduction Please give a general descriptio...</td>\n",
       "      <td>1</td>\n",
       "      <td>C0a</td>\n",
       "      <td>NaN</td>\n",
       "      <td>NaN</td>\n",
       "    </tr>\n",
       "  </tbody>\n",
       "</table>\n",
       "</div>"
      ],
      "text/plain": [
       "   Project Year  City_unique_key                                    City  \\\n",
       "0          2015               58                      ABM INDUSTRIES INC   \n",
       "1          2015               64                     Abbott Laboratories   \n",
       "2          2015              119           Resolute Forest Products Inc.   \n",
       "3          2015              234  Advanced Call Center Technologies, LLC   \n",
       "4          2015              285                              3M Company   \n",
       "\n",
       "  Question Number                                      Question Name  \\\n",
       "0           CC0.1   Introduction Please give a general descriptio...   \n",
       "1           CC0.1   Introduction Please give a general descriptio...   \n",
       "2           CC0.1   Introduction Please give a general descriptio...   \n",
       "3           CC0.1   Introduction Please give a general descriptio...   \n",
       "4           CC0.1   Introduction Please give a general descriptio...   \n",
       "\n",
       "   Row Number Column Number Column Name  \\\n",
       "0           1           C0a         NaN   \n",
       "1           1           C0a         NaN   \n",
       "2           1           C0a         NaN   \n",
       "3           1           C0a         NaN   \n",
       "4           1           C0a         NaN   \n",
       "\n",
       "                                     Response Answer  \n",
       "0  ABM (NYSE: ABM) is a leading provider of facil...  \n",
       "1                                                NaN  \n",
       "2                                                NaN  \n",
       "3  ACT is domestic (USA) outsourced call center s...  \n",
       "4                                                NaN  "
      ]
     },
     "execution_count": 61,
     "metadata": {},
     "output_type": "execute_result"
    }
   ],
   "source": [
    "df = df.drop_duplicates()\n",
    "df.head(5)"
   ]
  },
  {
   "cell_type": "code",
   "execution_count": 62,
   "metadata": {},
   "outputs": [
    {
     "data": {
      "text/plain": [
       "Project Year       709119\n",
       "City_unique_key    709119\n",
       "City               709119\n",
       "Question Number    709119\n",
       "Question Name      701758\n",
       "Row Number         709119\n",
       "Column Number      701758\n",
       "Column Name        674927\n",
       "Response Answer    378741\n",
       "dtype: int64"
      ]
     },
     "execution_count": 62,
     "metadata": {},
     "output_type": "execute_result"
    }
   ],
   "source": [
    "df.count()"
   ]
  },
  {
   "cell_type": "code",
   "execution_count": 25,
   "metadata": {},
   "outputs": [
    {
     "data": {
      "text/plain": [
       "34206"
      ]
     },
     "execution_count": 25,
     "metadata": {},
     "output_type": "execute_result"
    }
   ],
   "source": [
    "df['Column Name'].isnull().sum()"
   ]
  },
  {
   "cell_type": "code",
   "execution_count": 50,
   "metadata": {},
   "outputs": [],
   "source": [
    "df.head()\n",
    "column_data = df[['Column Name','Response Answer']]"
   ]
  },
  {
   "cell_type": "code",
   "execution_count": 52,
   "metadata": {},
   "outputs": [
    {
     "data": {
      "text/html": [
       "<div>\n",
       "<style scoped>\n",
       "    .dataframe tbody tr th:only-of-type {\n",
       "        vertical-align: middle;\n",
       "    }\n",
       "\n",
       "    .dataframe tbody tr th {\n",
       "        vertical-align: top;\n",
       "    }\n",
       "\n",
       "    .dataframe thead th {\n",
       "        text-align: right;\n",
       "    }\n",
       "</style>\n",
       "<table border=\"1\" class=\"dataframe\">\n",
       "  <thead>\n",
       "    <tr style=\"text-align: right;\">\n",
       "      <th></th>\n",
       "      <th>Column Name</th>\n",
       "      <th>Response Answer</th>\n",
       "    </tr>\n",
       "  </thead>\n",
       "  <tbody>\n",
       "    <tr>\n",
       "      <th>0</th>\n",
       "      <td>NaN</td>\n",
       "      <td>ABM (NYSE: ABM) is a leading provider of facil...</td>\n",
       "    </tr>\n",
       "    <tr>\n",
       "      <th>1</th>\n",
       "      <td>NaN</td>\n",
       "      <td>NaN</td>\n",
       "    </tr>\n",
       "    <tr>\n",
       "      <th>2</th>\n",
       "      <td>NaN</td>\n",
       "      <td>NaN</td>\n",
       "    </tr>\n",
       "    <tr>\n",
       "      <th>3</th>\n",
       "      <td>NaN</td>\n",
       "      <td>ACT is domestic (USA) outsourced call center s...</td>\n",
       "    </tr>\n",
       "    <tr>\n",
       "      <th>4</th>\n",
       "      <td>NaN</td>\n",
       "      <td>NaN</td>\n",
       "    </tr>\n",
       "  </tbody>\n",
       "</table>\n",
       "</div>"
      ],
      "text/plain": [
       "  Column Name                                    Response Answer\n",
       "0         NaN  ABM (NYSE: ABM) is a leading provider of facil...\n",
       "1         NaN                                                NaN\n",
       "2         NaN                                                NaN\n",
       "3         NaN  ACT is domestic (USA) outsourced call center s...\n",
       "4         NaN                                                NaN"
      ]
     },
     "execution_count": 52,
     "metadata": {},
     "output_type": "execute_result"
    }
   ],
   "source": [
    "#print(column_data)\n",
    "column_data.head(5)\n",
    "if column_data['column Name']"
   ]
  }
 ],
 "metadata": {
  "kernelspec": {
   "display_name": "Python 3",
   "language": "python",
   "name": "python3"
  },
  "language_info": {
   "codemirror_mode": {
    "name": "ipython",
    "version": 3
   },
   "file_extension": ".py",
   "mimetype": "text/x-python",
   "name": "python",
   "nbconvert_exporter": "python",
   "pygments_lexer": "ipython3",
   "version": "3.7.0"
  }
 },
 "nbformat": 4,
 "nbformat_minor": 2
}
