{
  "nbformat": 4,
  "nbformat_minor": 0,
  "metadata": {
    "colab": {
      "name": "Exploratory data Analysis.ipynb",
      "provenance": [],
      "collapsed_sections": []
    },
    "kernelspec": {
      "name": "python37664bitbaseconda44bd66a168f448c4b7f96d14855541f8",
      "display_name": "Python 3.7.6 64-bit ('base': conda)"
    }
  },
  "cells": [
    {
      "cell_type": "markdown",
      "execution_count": null,
      "metadata": {
        "colab_type": "text",
        "id": "TOvht7vqQGdR"
      },
      "outputs": [],
      "source": [
        "# Exploratory data analysis of Cities Data in Python."
      ]
    },
    {
      "cell_type": "markdown",
      "execution_count": null,
      "metadata": {
        "colab_type": "text",
        "id": "mhA_0CQOTDQy"
      },
      "outputs": [],
      "source": [
        "## Let us understand how to explore the data in python.\n"
      ]
    },
    {
      "cell_type": "markdown",
      "execution_count": null,
      "metadata": {
        "colab_type": "text",
        "id": "dB_j6LtTTO5j"
      },
      "outputs": [],
      "source": [
        "## Introduction"
      ]
    },
    {
      "cell_type": "markdown",
      "execution_count": null,
      "metadata": {
        "colab_type": "text",
        "id": "8hg00soETQ3z"
      },
      "outputs": [],
      "source": [
        "**What is Exploratory Data Analysis ?**\n",
        "\n",
        "Exploratory Data Analysis or (EDA) is understanding the data sets by summarizing their main characteristics often plotting them visually. This step is very important especially when we arrive at modeling the data in order to apply Machine learning. Plotting in EDA consists of Histograms, Box plot, Scatter plot and many more. It often takes much time to explore the data. Through the process of EDA, we can ask to define the problem statement or definition on our data set which is very important."
      ]
    },
    {
      "cell_type": "markdown",
      "execution_count": null,
      "metadata": {
        "colab_type": "text",
        "id": "n3VfNkBBw15s"
      },
      "outputs": [],
      "source": [
        "**What data are we exploring today ?**\n",
        "\n",
        "Challenge 1: City-Business Collaboration\n",
        "\n",
        "In order to connect companies and cities together, we need to first understand how the data they each report is aligned or divergent by using data science and text analytics techniques. Then, we can begin to identify where there might be opportunities for collaboration and co-investment for mutual sustainability goals that will ultimately benefit all citizens of the city.\n",
        "\n",
        "**Required Output**: Use of CDP data and ANY company data, including but not limited to CDP company data:\n",
        "\n",
        "CDP City Data [LOCATION: City Data MSTeams] Source: public disclosures from North American cities Datapoints: population: 0.5, city emission reduction targets\n",
        "\n",
        "CDP Company Data: [LOCATION: City Data MSTeams] Source: public disclosures from North American companies Datapoints: targets module C4.1-C4.3; Emissions data module C6.1, 6.3, 6.5, 6.10; Risks and opportunities module C2.2-C2.5\n",
        "\n",
        "Bonus: enrich your information with publicly available external data sets such as city-level information on electric power users, employers, planned economic investment, business registries, corporate city taxpayers, members of local chambers of commerce, CBCA which is a consortium of CDP, WBCSD and C40"
      ]
    },
    {
      "cell_type": "markdown",
      "execution_count": null,
      "metadata": {
        "colab_type": "text",
        "id": "CQDO4JCqTThV"
      },
      "outputs": [],
      "source": [
        "\n",
        "\n",
        "---\n",
        "\n"
      ]
    },
    {
      "cell_type": "markdown",
      "execution_count": null,
      "metadata": {
        "colab_type": "text",
        "id": "FPSqz1wzTXvz"
      },
      "outputs": [],
      "source": [
        "## 1. Importing the required libraries for EDA"
      ]
    },
    {
      "cell_type": "markdown",
      "execution_count": null,
      "metadata": {
        "colab_type": "text",
        "id": "9eLMx1Ebwa92"
      },
      "outputs": [],
      "source": [
        "Below are the libraries that are used in order to perform EDA (Exploratory data analysis) in this tutorial."
      ]
    },
    {
      "cell_type": "code",
      "execution_count": 13,
      "metadata": {},
      "outputs": [],
      "source": [
        "import pandas as pd\n",
        "import numpy as np\n",
        "import seaborn as sns                       #visualisation\n",
        "import matplotlib.pyplot as plt             #visualisation\n",
        "%matplotlib inline     \n",
        "sns.set(color_codes=True)"
      ]
    },
    {
      "cell_type": "markdown",
      "execution_count": null,
      "metadata": {
        "colab_type": "text",
        "id": "Ye6eXuohTd5Q"
      },
      "outputs": [],
      "source": [
        "\n",
        "\n",
        "---\n",
        "\n"
      ]
    },
    {
      "cell_type": "markdown",
      "execution_count": null,
      "metadata": {
        "colab_type": "text",
        "id": "8Y3Z2DbKTfJt"
      },
      "outputs": [],
      "source": [
        "## 2. Loading the data into the data frame."
      ]
    },
    {
      "cell_type": "markdown",
      "execution_count": null,
      "metadata": {
        "colab_type": "text",
        "id": "ko5zGJFCySaz"
      },
      "outputs": [],
      "source": [
        "Loading the data into the pandas data frame is certainly one of the most important steps in EDA, as we can see that the value from the data set is comma-separated. So all we have to do is to just read the CSV into a data frame and pandas data frame does the job for us."
      ]
    },
    {
      "cell_type": "markdown",
      "execution_count": null,
      "metadata": {
        "colab_type": "text",
        "id": "LgzUzD61IM8h"
      },
      "outputs": [],
      "source": [
        "To get or load the dataset into the notebook, place the data into the same directory as your Jupyter Notebook file. Then, open a *shell* in the same directory and run the command \"jupyter notebook\". After the notebook has started, check that you're using the correct kernal/environment in the top right corner."
      ]
    },
    {
      "cell_type": "code",
      "execution_count": 14,
      "metadata": {},
      "outputs": [
        {
          "data": {
            "text/html": "<div>\n<style scoped>\n    .dataframe tbody tr th:only-of-type {\n        vertical-align: middle;\n    }\n\n    .dataframe tbody tr th {\n        vertical-align: top;\n    }\n\n    .dataframe thead th {\n        text-align: right;\n    }\n</style>\n<table border=\"1\" class=\"dataframe\">\n  <thead>\n    <tr style=\"text-align: right;\">\n      <th></th>\n      <th>Project Year</th>\n      <th>Account Number</th>\n      <th>Account Name</th>\n      <th>Question Number</th>\n      <th>Question Name</th>\n      <th>Row Number</th>\n      <th>Row Name</th>\n      <th>Column Number</th>\n      <th>Column Name</th>\n      <th>Response Answer</th>\n      <th>Comments</th>\n      <th>File Name</th>\n    </tr>\n  </thead>\n  <tbody>\n    <tr>\n      <th>0</th>\n      <td>2017</td>\n      <td>63999</td>\n      <td>City of Miami Beach, FL</td>\n      <td>0.1</td>\n      <td>Please give a general description and introdu...</td>\n      <td>1</td>\n      <td>NaN</td>\n      <td>C1</td>\n      <td>Administrative boundary</td>\n      <td>City/Municipality</td>\n      <td>NaN</td>\n      <td>NaN</td>\n    </tr>\n    <tr>\n      <th>1</th>\n      <td>2017</td>\n      <td>62864</td>\n      <td>City of Lancaster, PA</td>\n      <td>0.1</td>\n      <td>Please give a general description and introdu...</td>\n      <td>1</td>\n      <td>NaN</td>\n      <td>C1</td>\n      <td>Administrative boundary</td>\n      <td>City/Municipality</td>\n      <td>NaN</td>\n      <td>NaN</td>\n    </tr>\n    <tr>\n      <th>2</th>\n      <td>2017</td>\n      <td>61790</td>\n      <td>City of Emeryville, CA</td>\n      <td>0.1</td>\n      <td>Please give a general description and introdu...</td>\n      <td>1</td>\n      <td>NaN</td>\n      <td>C1</td>\n      <td>Administrative boundary</td>\n      <td>City/Municipality</td>\n      <td>NaN</td>\n      <td>NaN</td>\n    </tr>\n    <tr>\n      <th>3</th>\n      <td>2017</td>\n      <td>58485</td>\n      <td>Abington Township</td>\n      <td>0.1</td>\n      <td>Please give a general description and introdu...</td>\n      <td>1</td>\n      <td>NaN</td>\n      <td>C1</td>\n      <td>Administrative boundary</td>\n      <td>City/Municipality</td>\n      <td>NaN</td>\n      <td>NaN</td>\n    </tr>\n    <tr>\n      <th>4</th>\n      <td>2017</td>\n      <td>54102</td>\n      <td>City of Albany</td>\n      <td>0.1</td>\n      <td>Please give a general description and introdu...</td>\n      <td>1</td>\n      <td>NaN</td>\n      <td>C1</td>\n      <td>Administrative boundary</td>\n      <td>City/Municipality</td>\n      <td>NaN</td>\n      <td>NaN</td>\n    </tr>\n  </tbody>\n</table>\n</div>",
            "text/plain": "   Project Year  Account Number             Account Name Question Number  \\\n0          2017           63999  City of Miami Beach, FL             0.1   \n1          2017           62864    City of Lancaster, PA             0.1   \n2          2017           61790   City of Emeryville, CA             0.1   \n3          2017           58485        Abington Township             0.1   \n4          2017           54102           City of Albany             0.1   \n\n                                       Question Name  Row Number Row Name  \\\n0   Please give a general description and introdu...           1      NaN   \n1   Please give a general description and introdu...           1      NaN   \n2   Please give a general description and introdu...           1      NaN   \n3   Please give a general description and introdu...           1      NaN   \n4   Please give a general description and introdu...           1      NaN   \n\n  Column Number               Column Name    Response Answer Comments  \\\n0            C1   Administrative boundary  City/Municipality      NaN   \n1            C1   Administrative boundary  City/Municipality      NaN   \n2            C1   Administrative boundary  City/Municipality      NaN   \n3            C1   Administrative boundary  City/Municipality      NaN   \n4            C1   Administrative boundary  City/Municipality      NaN   \n\n  File Name  \n0       NaN  \n1       NaN  \n2       NaN  \n3       NaN  \n4       NaN  "
          },
          "execution_count": 14,
          "metadata": {},
          "output_type": "execute_result"
        }
      ],
      "source": [
        "import chardet\n",
        "def find_encoding(fname):\n",
        "    r_file = open(fname, 'rb').read()\n",
        "    result = chardet.detect(r_file)\n",
        "    charenc = result['encoding']\n",
        "    return charenc\n",
        "\n",
        "file = \"Cities_Data_2017-2019_mb2.csv\"\n",
        "my_encoding = find_encoding(file)\n",
        "df = pd.read_csv(file, encoding=my_encoding)\n",
        "# To display the top 5 rows \n",
        "df.head(5)"
      ]
    },
    {
      "cell_type": "code",
      "execution_count": 15,
      "metadata": {},
      "outputs": [
        {
          "data": {
            "text/html": "<div>\n<style scoped>\n    .dataframe tbody tr th:only-of-type {\n        vertical-align: middle;\n    }\n\n    .dataframe tbody tr th {\n        vertical-align: top;\n    }\n\n    .dataframe thead th {\n        text-align: right;\n    }\n</style>\n<table border=\"1\" class=\"dataframe\">\n  <thead>\n    <tr style=\"text-align: right;\">\n      <th></th>\n      <th>Project Year</th>\n      <th>Account Number</th>\n      <th>Account Name</th>\n      <th>Question Number</th>\n      <th>Question Name</th>\n      <th>Row Number</th>\n      <th>Row Name</th>\n      <th>Column Number</th>\n      <th>Column Name</th>\n      <th>Response Answer</th>\n      <th>Comments</th>\n      <th>File Name</th>\n    </tr>\n  </thead>\n  <tbody>\n    <tr>\n      <th>135506</th>\n      <td>2019</td>\n      <td>35894</td>\n      <td>Ville de Montreal</td>\n      <td>5.0a</td>\n      <td>Please provide details of your total city-wide...</td>\n      <td>1</td>\n      <td>NaN</td>\n      <td>12</td>\n      <td>Please indicate to which sector(s) the target ...</td>\n      <td>Industrial facilities</td>\n      <td>NaN</td>\n      <td>NaN</td>\n    </tr>\n    <tr>\n      <th>135507</th>\n      <td>2019</td>\n      <td>35894</td>\n      <td>Ville de Montreal</td>\n      <td>5.0a</td>\n      <td>Please provide details of your total city-wide...</td>\n      <td>1</td>\n      <td>NaN</td>\n      <td>13</td>\n      <td>Does this target align to a requirement from a...</td>\n      <td>No</td>\n      <td>NaN</td>\n      <td>NaN</td>\n    </tr>\n    <tr>\n      <th>135508</th>\n      <td>2019</td>\n      <td>35894</td>\n      <td>Ville de Montreal</td>\n      <td>5.0a</td>\n      <td>Please provide details of your total city-wide...</td>\n      <td>1</td>\n      <td>NaN</td>\n      <td>14</td>\n      <td>Please describe your target. If your country h...</td>\n      <td>Baseline emissions have been updated. Please r...</td>\n      <td>NaN</td>\n      <td>NaN</td>\n    </tr>\n    <tr>\n      <th>135509</th>\n      <td>2019</td>\n      <td>35894</td>\n      <td>Ville de Montreal</td>\n      <td>8.0b</td>\n      <td>Please explain why you do not have a renewable...</td>\n      <td>1</td>\n      <td>Please explain</td>\n      <td>1</td>\n      <td>Reasoning</td>\n      <td>Other</td>\n      <td>NaN</td>\n      <td>NaN</td>\n    </tr>\n    <tr>\n      <th>135510</th>\n      <td>2019</td>\n      <td>35894</td>\n      <td>Ville de Montreal</td>\n      <td>8.0b</td>\n      <td>Please explain why you do not have a renewable...</td>\n      <td>1</td>\n      <td>Please explain</td>\n      <td>2</td>\n      <td>Comment</td>\n      <td>Montreal's electrical energy source is mostly ...</td>\n      <td>NaN</td>\n      <td>NaN</td>\n    </tr>\n  </tbody>\n</table>\n</div>",
            "text/plain": "        Project Year  Account Number       Account Name Question Number  \\\n135506          2019           35894  Ville de Montreal            5.0a   \n135507          2019           35894  Ville de Montreal            5.0a   \n135508          2019           35894  Ville de Montreal            5.0a   \n135509          2019           35894  Ville de Montreal            8.0b   \n135510          2019           35894  Ville de Montreal            8.0b   \n\n                                            Question Name  Row Number  \\\n135506  Please provide details of your total city-wide...           1   \n135507  Please provide details of your total city-wide...           1   \n135508  Please provide details of your total city-wide...           1   \n135509  Please explain why you do not have a renewable...           1   \n135510  Please explain why you do not have a renewable...           1   \n\n              Row Name Column Number  \\\n135506             NaN            12   \n135507             NaN            13   \n135508             NaN            14   \n135509  Please explain             1   \n135510  Please explain             2   \n\n                                              Column Name  \\\n135506  Please indicate to which sector(s) the target ...   \n135507  Does this target align to a requirement from a...   \n135508  Please describe your target. If your country h...   \n135509                                          Reasoning   \n135510                                            Comment   \n\n                                          Response Answer Comments File Name  \n135506                              Industrial facilities      NaN       NaN  \n135507                                                 No      NaN       NaN  \n135508  Baseline emissions have been updated. Please r...      NaN       NaN  \n135509                                              Other      NaN       NaN  \n135510  Montreal's electrical energy source is mostly ...      NaN       NaN  "
          },
          "execution_count": 15,
          "metadata": {},
          "output_type": "execute_result"
        }
      ],
      "source": [
        "df.tail(5)                        # To display the botton 5 rows"
      ]
    },
    {
      "cell_type": "markdown",
      "execution_count": null,
      "metadata": {
        "colab_type": "text",
        "id": "JjQnr4SPzaL5"
      },
      "outputs": [],
      "source": [
        "\n",
        "\n",
        "---\n",
        "\n"
      ]
    },
    {
      "cell_type": "markdown",
      "execution_count": null,
      "metadata": {},
      "outputs": [],
      "source": [
        "## Transform the Data\n",
        "Find the data we're interested in, select it, and transform it into a more useful form.\n",
        "\n",
        "### Find and Transform Unique Data\n",
        "Once found, the data can then be transformed into an form that makes more sense to process/analyse"
      ]
    },
    {
      "cell_type": "code",
      "execution_count": 16,
      "metadata": {},
      "outputs": [
        {
          "name": "stdout",
          "output_type": "stream",
          "text": "number of duplicate rows:  (0, 12)\nNEW number of duplicate rows:  (0, 12)\n"
        }
      ],
      "source": [
        "# Warning: Usually used for full rows\n",
        "duplicate_rows_df = df[df.duplicated()]\n",
        "print(\"number of duplicate rows: \", duplicate_rows_df.shape)\n",
        "df = df.drop_duplicates()\n",
        "duplicate_rows_df = df[df.duplicated()]\n",
        "print(\"NEW number of duplicate rows: \", duplicate_rows_df.shape)"
      ]
    },
    {
      "cell_type": "code",
      "execution_count": 17,
      "metadata": {},
      "outputs": [
        {
          "name": "stdout",
          "output_type": "stream",
          "text": "Unique Values:\n3 \t Project Year\n219 \t Account Number\n224 \t Account Name\n81 \t Question Number\n101 \t Question Name\n129 \t Row Number\n30 \t Row Name\n51 \t Column Number\n252 \t Column Name\n20905 \t Response Answer\n227 \t Comments\n328 \t File Name\n"
        }
      ],
      "source": [
        "# Select a column name to view unique values for that Column\n",
        "print(\"Unique Values:\")\n",
        "uniques = {}\n",
        "for col in list(df.columns):\n",
        "    uniques[str(col)] = pd.unique(df[str(col)])\n",
        "    print(len(uniques[str(col)]), \"\\t\", col,)"
      ]
    },
    {
      "cell_type": "code",
      "execution_count": 18,
      "metadata": {},
      "outputs": [
        {
          "name": "stdout",
          "output_type": "stream",
          "text": "Project Year \n [2017 2018 2019] ...\nAccount Number \n [63999 62864 61790] ...\nAccount Name \n ['City of Miami Beach, FL' 'City of Lancaster, PA'\n 'City of Emeryville, CA'] ...\nQuestion Number \n ['0.1' '0.2' '0.3'] ...\nQuestion Name \n [' Please give a general description and introduction to your city including your city\\x92s boundary in the text box below. '\n ' Emissions Accounting ChoiceReporting emissions is optional for all cities. By checking the boxes below you are indicating that you have fuel and/or greenhouse gas (GHG) emissions data to report at this time.\\xa0Select \\x91Government\\x92 to report emissions from your local government operations (sometimes referred to as \\x91corporate\\x92 or \\x91municipal\\x92 emissions).Select \\x91Community\\x92 to report emissions from the entire city area over which the city government can exercise a degree of influence through the policies and regulations they implement (sometimes referred to as \\x91geographic\\x92 or \\x91city wide\\x92 emissions).Select both boxes to report fuel and/or emissions for both inventories.\\xa0IF YOU HAVE NO FUEL AND/OR GREENHOUSE GAS EMISSIONS TO REPORT DO NOT CHECK EITHER BOX.'\n \" Please provide information about your city's Mayor in the table below.\\xa0 \"] ...\nRow Number \n [1 0 2] ...\nRow Name \n [nan 'City boundary' 'Please complete'] ...\nColumn Number \n ['C1' 'C2' 'C3'] ...\nColumn Name \n [' Administrative boundary' ' Description of city'\n ' Government , Community, None'] ...\nResponse Answer \n ['City/Municipality' 'County' 'Other: Consolidated City County Government'] ...\nComments \n [nan\n 'Arlington County Board members (5 elected at-large) serve 4-year terms. The Chairmanship rotates among the five elected Board members, a new Chair every January 1 for the following 12 months.'\n 'Strategies have been defined in the greenhouse gas inventory report to reduce emissions County-wide'] ...\nFile Name \n [nan ' vulnerability-assessment (1).pdf'\n ' BrowardCAPReport2015_FINAL DRAFT_01252016.pdf'] ...\n"
        }
      ],
      "source": [
        "# Print a sample overview of the data\n",
        "for col in uniques.keys():\n",
        "    print(col, \"\\n\", uniques[col][:3], \"...\")\n"
      ]
    },
    {
      "cell_type": "code",
      "execution_count": 19,
      "metadata": {},
      "outputs": [
        {
          "data": {
            "text/html": "<div>\n<style scoped>\n    .dataframe tbody tr th:only-of-type {\n        vertical-align: middle;\n    }\n\n    .dataframe tbody tr th {\n        vertical-align: top;\n    }\n\n    .dataframe thead th {\n        text-align: right;\n    }\n</style>\n<table border=\"1\" class=\"dataframe\">\n  <thead>\n    <tr style=\"text-align: right;\">\n      <th></th>\n      <th>Project Year</th>\n      <th>Account Number</th>\n      <th>Account Name</th>\n      <th>Question Number</th>\n      <th>Question Name</th>\n      <th>Row Number</th>\n      <th>Row Name</th>\n      <th>Column Number</th>\n      <th>Column Name</th>\n      <th>Response Answer</th>\n      <th>Comments</th>\n      <th>File Name</th>\n    </tr>\n  </thead>\n  <tbody>\n    <tr>\n      <th>134860</th>\n      <td>2019</td>\n      <td>58482</td>\n      <td>Ville de Laval</td>\n      <td>0.5</td>\n      <td>Please provide details of your city�s current ...</td>\n      <td>1</td>\n      <td>Please complete</td>\n      <td>4</td>\n      <td>Projected population year</td>\n      <td>2030</td>\n      <td>NaN</td>\n      <td>NaN</td>\n    </tr>\n    <tr>\n      <th>135101</th>\n      <td>2019</td>\n      <td>35894</td>\n      <td>Ville de Montreal</td>\n      <td>0.5</td>\n      <td>Please provide details of your city�s current ...</td>\n      <td>1</td>\n      <td>Please complete</td>\n      <td>1</td>\n      <td>Current population</td>\n      <td>1942044</td>\n      <td>NaN</td>\n      <td>NaN</td>\n    </tr>\n    <tr>\n      <th>135102</th>\n      <td>2019</td>\n      <td>35894</td>\n      <td>Ville de Montreal</td>\n      <td>0.5</td>\n      <td>Please provide details of your city�s current ...</td>\n      <td>1</td>\n      <td>Please complete</td>\n      <td>2</td>\n      <td>Current population year</td>\n      <td>2016</td>\n      <td>NaN</td>\n      <td>NaN</td>\n    </tr>\n    <tr>\n      <th>135103</th>\n      <td>2019</td>\n      <td>35894</td>\n      <td>Ville de Montreal</td>\n      <td>0.5</td>\n      <td>Please provide details of your city�s current ...</td>\n      <td>1</td>\n      <td>Please complete</td>\n      <td>3</td>\n      <td>Projected population</td>\n      <td>2240108</td>\n      <td>NaN</td>\n      <td>NaN</td>\n    </tr>\n    <tr>\n      <th>135104</th>\n      <td>2019</td>\n      <td>35894</td>\n      <td>Ville de Montreal</td>\n      <td>0.5</td>\n      <td>Please provide details of your city�s current ...</td>\n      <td>1</td>\n      <td>Please complete</td>\n      <td>4</td>\n      <td>Projected population year</td>\n      <td>2036</td>\n      <td>NaN</td>\n      <td>NaN</td>\n    </tr>\n  </tbody>\n</table>\n</div>",
            "text/plain": "        Project Year  Account Number       Account Name Question Number  \\\n134860          2019           58482     Ville de Laval             0.5   \n135101          2019           35894  Ville de Montreal             0.5   \n135102          2019           35894  Ville de Montreal             0.5   \n135103          2019           35894  Ville de Montreal             0.5   \n135104          2019           35894  Ville de Montreal             0.5   \n\n                                            Question Name  Row Number  \\\n134860  Please provide details of your city�s current ...           1   \n135101  Please provide details of your city�s current ...           1   \n135102  Please provide details of your city�s current ...           1   \n135103  Please provide details of your city�s current ...           1   \n135104  Please provide details of your city�s current ...           1   \n\n               Row Name Column Number                Column Name  \\\n134860  Please complete             4  Projected population year   \n135101  Please complete             1         Current population   \n135102  Please complete             2    Current population year   \n135103  Please complete             3       Projected population   \n135104  Please complete             4  Projected population year   \n\n       Response Answer Comments File Name  \n134860            2030      NaN       NaN  \n135101         1942044      NaN       NaN  \n135102            2016      NaN       NaN  \n135103         2240108      NaN       NaN  \n135104            2036      NaN       NaN  "
          },
          "execution_count": 19,
          "metadata": {},
          "output_type": "execute_result"
        }
      ],
      "source": [
        "# Filter by a specific column value\n",
        "# Goal Question ID: CDP City Data LOCATION: City Data MSTeams Source: public disclosures from North American cities Datapoints: population: 0.5, city emission reduction targets\n",
        "# SQL to Pandas Cheatsheet: https://pandas.pydata.org/pandas-docs/stable/getting_started/comparison/comparison_with_sql.html\n",
        "col_where_condition = df[df['Question Number'] == '0.5']\n",
        "col_where_condition.tail()"
      ]
    },
    {
      "cell_type": "code",
      "execution_count": 20,
      "metadata": {},
      "outputs": [
        {
          "data": {
            "text/html": "<div>\n<style scoped>\n    .dataframe tbody tr th:only-of-type {\n        vertical-align: middle;\n    }\n\n    .dataframe tbody tr th {\n        vertical-align: top;\n    }\n\n    .dataframe thead th {\n        text-align: right;\n    }\n</style>\n<table border=\"1\" class=\"dataframe\">\n  <thead>\n    <tr style=\"text-align: right;\">\n      <th></th>\n      <th>res</th>\n    </tr>\n  </thead>\n  <tbody>\n    <tr>\n      <th>134860</th>\n      <td>2030</td>\n    </tr>\n    <tr>\n      <th>135101</th>\n      <td>1942044</td>\n    </tr>\n    <tr>\n      <th>135102</th>\n      <td>2016</td>\n    </tr>\n    <tr>\n      <th>135103</th>\n      <td>2240108</td>\n    </tr>\n    <tr>\n      <th>135104</th>\n      <td>2036</td>\n    </tr>\n  </tbody>\n</table>\n</div>",
            "text/plain": "            res\n134860     2030\n135101  1942044\n135102     2016\n135103  2240108\n135104     2036"
          },
          "execution_count": 20,
          "metadata": {},
          "output_type": "execute_result"
        }
      ],
      "source": [
        "# We know the question number now, so we can ignore it and focus on the actual data\n",
        "df = col_where_condition.drop([\"Project Year\", \"Account Name\", \"Question Name\", \"Row Name\", \"Column Name\", \"Comments\", \"File Name\", \"Row Number\",\"Column Number\",\"Question Number\", \"Account Number\"], axis=1)\n",
        "df = df.rename(columns={\"Response Answer\" : \"res\"})\n",
        "df.tail()"
      ]
    },
    {
      "cell_type": "markdown",
      "execution_count": null,
      "metadata": {
        "colab_type": "text",
        "id": "vAmC369yTpMF"
      },
      "outputs": [],
      "source": [
        "## Data Cleaning\n",
        "Fix missing, null, misplaced, duplicated, duplicitous or mistyped data points"
      ]
    },
    {
      "cell_type": "code",
      "execution_count": 21,
      "metadata": {},
      "outputs": [],
      "source": [
        "df = df.dropna()\n",
        "\n",
        "\n"
      ]
    },
    {
      "cell_type": "markdown",
      "execution_count": null,
      "metadata": {
        "colab_type": "text",
        "id": "9ESKxikIzA1d"
      },
      "outputs": [],
      "source": [
        "Here we check for the datatypes because sometimes numbers are stored as a strings.  If in that case, we have to convert to plot the data via a graph. \n",
        "object types refer to mixed types or variable length strings. See [Pandas types](https://pbpython.com/pandas_dtypes.html)."
      ]
    },
    {
      "cell_type": "code",
      "execution_count": 34,
      "metadata": {},
      "outputs": [
        {
          "name": "stdout",
          "output_type": "stream",
          "text": "<class 'pandas.core.frame.DataFrame'>\nInt64Index: 1660 entries, 1656 to 135104\nData columns (total 1 columns):\n #   Column  Non-Null Count  Dtype \n---  ------  --------------  ----- \n 0   res     1660 non-null   object\ndtypes: object(1)\nmemory usage: 105.9+ KB\n"
        },
        {
          "data": {
            "text/html": "<div>\n<style scoped>\n    .dataframe tbody tr th:only-of-type {\n        vertical-align: middle;\n    }\n\n    .dataframe tbody tr th {\n        vertical-align: top;\n    }\n\n    .dataframe thead th {\n        text-align: right;\n    }\n</style>\n<table border=\"1\" class=\"dataframe\">\n  <thead>\n    <tr style=\"text-align: right;\">\n      <th></th>\n      <th>res</th>\n    </tr>\n  </thead>\n  <tbody>\n    <tr>\n      <th>134860</th>\n      <td>2030</td>\n    </tr>\n    <tr>\n      <th>135101</th>\n      <td>1942044</td>\n    </tr>\n    <tr>\n      <th>135102</th>\n      <td>2016</td>\n    </tr>\n    <tr>\n      <th>135103</th>\n      <td>2240108</td>\n    </tr>\n    <tr>\n      <th>135104</th>\n      <td>2036</td>\n    </tr>\n  </tbody>\n</table>\n</div>",
            "text/plain": "            res\n134860     2030\n135101  1942044\n135102     2016\n135103  2240108\n135104     2036"
          },
          "execution_count": 34,
          "metadata": {},
          "output_type": "execute_result"
        }
      ],
      "source": [
        "df.info()\n",
        "df.tail()"
      ]
    },
    {
      "cell_type": "code",
      "execution_count": 61,
      "metadata": {},
      "outputs": [
        {
          "name": "stdout",
          "output_type": "stream",
          "text": "<class 'pandas.core.frame.DataFrame'>\nInt64Index: 1637 entries, 1656 to 135104\nData columns (total 1 columns):\n #   Column  Non-Null Count  Dtype\n---  ------  --------------  -----\n 0   res     1637 non-null   int32\ndtypes: int32(1)\nmemory usage: 19.2 KB\n"
        }
      ],
      "source": [
        "# Assign Data Types: https://pandas.pydata.org/pandas-docs/stable/reference/api/pandas.DataFrame.astype.html\n",
        "# Clean up numerical ranges and incorrect types\n",
        "mask = df['res'].apply(lambda x: float(x).is_integer())\n",
        "df2 = df[mask]\n",
        "max_int = 2147483646\n",
        "mask2 = df2['res'].apply(lambda x: int(x) < max_int)\n",
        "df3 = df2[mask2]\n",
        "df3.tail()\n",
        "df3['res'] = df3['res'].astype(int)\n",
        "df3.info()"
      ]
    },
    {
      "cell_type": "code",
      "execution_count": 62,
      "metadata": {},
      "outputs": [
        {
          "data": {
            "text/html": "<div>\n<style scoped>\n    .dataframe tbody tr th:only-of-type {\n        vertical-align: middle;\n    }\n\n    .dataframe tbody tr th {\n        vertical-align: top;\n    }\n\n    .dataframe thead th {\n        text-align: right;\n    }\n</style>\n<table border=\"1\" class=\"dataframe\">\n  <thead>\n    <tr style=\"text-align: right;\">\n      <th></th>\n      <th>res</th>\n    </tr>\n  </thead>\n  <tbody>\n    <tr>\n      <th>131655</th>\n      <td>5035</td>\n    </tr>\n    <tr>\n      <th>131656</th>\n      <td>2016</td>\n    </tr>\n    <tr>\n      <th>131657</th>\n      <td>5319</td>\n    </tr>\n    <tr>\n      <th>131658</th>\n      <td>2021</td>\n    </tr>\n    <tr>\n      <th>131868</th>\n      <td>8532</td>\n    </tr>\n    <tr>\n      <th>131869</th>\n      <td>2016</td>\n    </tr>\n    <tr>\n      <th>131870</th>\n      <td>9460</td>\n    </tr>\n    <tr>\n      <th>131871</th>\n      <td>2050</td>\n    </tr>\n    <tr>\n      <th>132313</th>\n      <td>25377</td>\n    </tr>\n    <tr>\n      <th>132314</th>\n      <td>2017</td>\n    </tr>\n    <tr>\n      <th>132315</th>\n      <td>26562</td>\n    </tr>\n    <tr>\n      <th>132316</th>\n      <td>2030</td>\n    </tr>\n    <tr>\n      <th>132637</th>\n      <td>21457</td>\n    </tr>\n    <tr>\n      <th>132638</th>\n      <td>2010</td>\n    </tr>\n    <tr>\n      <th>132778</th>\n      <td>2121</td>\n    </tr>\n    <tr>\n      <th>132779</th>\n      <td>2010</td>\n    </tr>\n    <tr>\n      <th>132861</th>\n      <td>20372</td>\n    </tr>\n    <tr>\n      <th>132862</th>\n      <td>2017</td>\n    </tr>\n    <tr>\n      <th>132983</th>\n      <td>31394</td>\n    </tr>\n    <tr>\n      <th>132984</th>\n      <td>2010</td>\n    </tr>\n    <tr>\n      <th>132985</th>\n      <td>33410</td>\n    </tr>\n    <tr>\n      <th>132986</th>\n      <td>2020</td>\n    </tr>\n    <tr>\n      <th>133295</th>\n      <td>31822</td>\n    </tr>\n    <tr>\n      <th>133296</th>\n      <td>2019</td>\n    </tr>\n    <tr>\n      <th>133543</th>\n      <td>18000</td>\n    </tr>\n    <tr>\n      <th>133544</th>\n      <td>2019</td>\n    </tr>\n    <tr>\n      <th>133641</th>\n      <td>5450</td>\n    </tr>\n    <tr>\n      <th>133642</th>\n      <td>2018</td>\n    </tr>\n    <tr>\n      <th>133643</th>\n      <td>5500</td>\n    </tr>\n    <tr>\n      <th>133644</th>\n      <td>2019</td>\n    </tr>\n    <tr>\n      <th>134053</th>\n      <td>3500</td>\n    </tr>\n    <tr>\n      <th>134054</th>\n      <td>2018</td>\n    </tr>\n    <tr>\n      <th>134055</th>\n      <td>2018</td>\n    </tr>\n    <tr>\n      <th>134056</th>\n      <td>2019</td>\n    </tr>\n    <tr>\n      <th>134243</th>\n      <td>136235</td>\n    </tr>\n    <tr>\n      <th>134244</th>\n      <td>2018</td>\n    </tr>\n    <tr>\n      <th>134245</th>\n      <td>192860</td>\n    </tr>\n    <tr>\n      <th>134246</th>\n      <td>2031</td>\n    </tr>\n    <tr>\n      <th>134748</th>\n      <td>4565</td>\n    </tr>\n    <tr>\n      <th>134749</th>\n      <td>2010</td>\n    </tr>\n    <tr>\n      <th>134750</th>\n      <td>5000</td>\n    </tr>\n    <tr>\n      <th>134751</th>\n      <td>2020</td>\n    </tr>\n    <tr>\n      <th>134857</th>\n      <td>437413</td>\n    </tr>\n    <tr>\n      <th>134858</th>\n      <td>2017</td>\n    </tr>\n    <tr>\n      <th>134859</th>\n      <td>507213</td>\n    </tr>\n    <tr>\n      <th>134860</th>\n      <td>2030</td>\n    </tr>\n    <tr>\n      <th>135101</th>\n      <td>1942044</td>\n    </tr>\n    <tr>\n      <th>135102</th>\n      <td>2016</td>\n    </tr>\n    <tr>\n      <th>135103</th>\n      <td>2240108</td>\n    </tr>\n    <tr>\n      <th>135104</th>\n      <td>2036</td>\n    </tr>\n  </tbody>\n</table>\n</div>",
            "text/plain": "            res\n131655     5035\n131656     2016\n131657     5319\n131658     2021\n131868     8532\n131869     2016\n131870     9460\n131871     2050\n132313    25377\n132314     2017\n132315    26562\n132316     2030\n132637    21457\n132638     2010\n132778     2121\n132779     2010\n132861    20372\n132862     2017\n132983    31394\n132984     2010\n132985    33410\n132986     2020\n133295    31822\n133296     2019\n133543    18000\n133544     2019\n133641     5450\n133642     2018\n133643     5500\n133644     2019\n134053     3500\n134054     2018\n134055     2018\n134056     2019\n134243   136235\n134244     2018\n134245   192860\n134246     2031\n134748     4565\n134749     2010\n134750     5000\n134751     2020\n134857   437413\n134858     2017\n134859   507213\n134860     2030\n135101  1942044\n135102     2016\n135103  2240108\n135104     2036"
          },
          "execution_count": 62,
          "metadata": {},
          "output_type": "execute_result"
        }
      ],
      "source": [
        "# Basic Plots\n",
        "# Manual: https://pandas.pydata.org/pandas-docs/stable/user_guide/visualization.html\n",
        "df.tail(50)"
      ]
    },
    {
      "cell_type": "code",
      "execution_count": null,
      "metadata": {},
      "outputs": [],
      "source": []
    }
  ]
}