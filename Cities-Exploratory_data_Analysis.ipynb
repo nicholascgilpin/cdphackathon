{
  "nbformat": 4,
  "nbformat_minor": 0,
  "metadata": {
    "colab": {
      "name": "Exploratory data Analysis.ipynb",
      "provenance": [],
      "collapsed_sections": []
    },
    "kernelspec": {
      "name": "python35664bitconda3c9c04f97f424254a11409f274e21e91",
      "display_name": "Python 3.5.6 64-bit (conda)"
    }
  },
  "cells": [
    {
      "cell_type": "markdown",
      "execution_count": null,
      "metadata": {
        "colab_type": "text",
        "id": "TOvht7vqQGdR"
      },
      "outputs": [],
      "source": [
        "# Exploratory data analysis of Cities Data in Python."
      ]
    },
    {
      "cell_type": "markdown",
      "execution_count": null,
      "metadata": {
        "colab_type": "text",
        "id": "mhA_0CQOTDQy"
      },
      "outputs": [],
      "source": [
        "## Let us understand how to explore the data in python.\n"
      ]
    },
    {
      "cell_type": "markdown",
      "execution_count": null,
      "metadata": {
        "colab_type": "text",
        "id": "dB_j6LtTTO5j"
      },
      "outputs": [],
      "source": [
        "## Introduction"
      ]
    },
    {
      "cell_type": "markdown",
      "execution_count": null,
      "metadata": {
        "colab_type": "text",
        "id": "8hg00soETQ3z"
      },
      "outputs": [],
      "source": [
        "**What is Exploratory Data Analysis ?**\n",
        "\n",
        "Exploratory Data Analysis or (EDA) is understanding the data sets by summarizing their main characteristics often plotting them visually. This step is very important especially when we arrive at modeling the data in order to apply Machine learning. Plotting in EDA consists of Histograms, Box plot, Scatter plot and many more. It often takes much time to explore the data. Through the process of EDA, we can ask to define the problem statement or definition on our data set which is very important."
      ]
    },
    {
      "cell_type": "markdown",
      "execution_count": null,
      "metadata": {
        "colab_type": "text",
        "id": "n3VfNkBBw15s"
      },
      "outputs": [],
      "source": [
        "**What data are we exploring today ?**\n",
        "\n",
        "Challenge 1: City-Business Collaboration\n",
        "\n",
        "In order to connect companies and cities together, we need to first understand how the data they each report is aligned or divergent by using data science and text analytics techniques. Then, we can begin to identify where there might be opportunities for collaboration and co-investment for mutual sustainability goals that will ultimately benefit all citizens of the city.\n",
        "\n",
        "**Required Output**: Use of CDP data and ANY company data, including but not limited to CDP company data:\n",
        "\n",
        "CDP City Data [LOCATION: City Data MSTeams] Source: public disclosures from North American cities Datapoints: population: 0.5, city emission reduction targets\n",
        "\n",
        "CDP Company Data: [LOCATION: City Data MSTeams] Source: public disclosures from North American companies Datapoints: targets module C4.1-C4.3; Emissions data module C6.1, 6.3, 6.5, 6.10; Risks and opportunities module C2.2-C2.5\n",
        "\n",
        "Bonus: enrich your information with publicly available external data sets such as city-level information on electric power users, employers, planned economic investment, business registries, corporate city taxpayers, members of local chambers of commerce, CBCA which is a consortium of CDP, WBCSD and C40"
      ]
    },
    {
      "cell_type": "markdown",
      "execution_count": null,
      "metadata": {
        "colab_type": "text",
        "id": "CQDO4JCqTThV"
      },
      "outputs": [],
      "source": [
        "\n",
        "\n",
        "---\n",
        "\n"
      ]
    },
    {
      "cell_type": "markdown",
      "execution_count": null,
      "metadata": {
        "colab_type": "text",
        "id": "FPSqz1wzTXvz"
      },
      "outputs": [],
      "source": [
        "## 1. Importing the required libraries for EDA"
      ]
    },
    {
      "cell_type": "markdown",
      "execution_count": null,
      "metadata": {
        "colab_type": "text",
        "id": "9eLMx1Ebwa92"
      },
      "outputs": [],
      "source": [
        "Below are the libraries that are used in order to perform EDA (Exploratory data analysis) in this tutorial."
      ]
    },
    {
      "cell_type": "code",
      "execution_count": 66,
      "metadata": {},
      "outputs": [],
      "source": [
        "import pandas as pd\n",
        "import numpy as np\n",
        "import seaborn as sns                       #visualisation\n",
        "import matplotlib.pyplot as plt             #visualisation\n",
        "%matplotlib inline     \n",
        "sns.set(color_codes=True)"
      ]
    },
    {
      "cell_type": "markdown",
      "execution_count": null,
      "metadata": {
        "colab_type": "text",
        "id": "Ye6eXuohTd5Q"
      },
      "outputs": [],
      "source": [
        "\n",
        "\n",
        "---\n",
        "\n"
      ]
    },
    {
      "cell_type": "markdown",
      "execution_count": null,
      "metadata": {
        "colab_type": "text",
        "id": "8Y3Z2DbKTfJt"
      },
      "outputs": [],
      "source": [
        "## 2. Loading the data into the data frame."
      ]
    },
    {
      "cell_type": "markdown",
      "execution_count": null,
      "metadata": {
        "colab_type": "text",
        "id": "ko5zGJFCySaz"
      },
      "outputs": [],
      "source": [
        "Loading the data into the pandas data frame is certainly one of the most important steps in EDA, as we can see that the value from the data set is comma-separated. So all we have to do is to just read the CSV into a data frame and pandas data frame does the job for us."
      ]
    },
    {
      "cell_type": "markdown",
      "execution_count": null,
      "metadata": {
        "colab_type": "text",
        "id": "LgzUzD61IM8h"
      },
      "outputs": [],
      "source": [
        "To get or load the dataset into the notebook, place the data into the same directory as your Jupyter Notebook file. Then, open a *shell* in the same directory and run the command \"jupyter notebook\". After the notebook has started, check that you're using the correct kernal/environment in the top right corner."
      ]
    },
    {
      "cell_type": "code",
      "execution_count": 67,
      "metadata": {},
      "outputs": [
        {
          "data": {
            "text/html": "<div>\n<style scoped>\n    .dataframe tbody tr th:only-of-type {\n        vertical-align: middle;\n    }\n\n    .dataframe tbody tr th {\n        vertical-align: top;\n    }\n\n    .dataframe thead th {\n        text-align: right;\n    }\n</style>\n<table border=\"1\" class=\"dataframe\">\n  <thead>\n    <tr style=\"text-align: right;\">\n      <th></th>\n      <th>Project Year</th>\n      <th>Account Number</th>\n      <th>Account Name</th>\n      <th>Question Number</th>\n      <th>Question Name</th>\n      <th>Row Number</th>\n      <th>Row Name</th>\n      <th>Column Number</th>\n      <th>Column Name</th>\n      <th>Response Answer</th>\n      <th>Comments</th>\n      <th>File Name</th>\n    </tr>\n  </thead>\n  <tbody>\n    <tr>\n      <th>0</th>\n      <td>2017</td>\n      <td>63999</td>\n      <td>City of Miami Beach, FL</td>\n      <td>0.1</td>\n      <td>Please give a general description and introdu...</td>\n      <td>1</td>\n      <td>NaN</td>\n      <td>C1</td>\n      <td>Administrative boundary</td>\n      <td>City/Municipality</td>\n      <td>NaN</td>\n      <td>NaN</td>\n    </tr>\n    <tr>\n      <th>1</th>\n      <td>2017</td>\n      <td>62864</td>\n      <td>City of Lancaster, PA</td>\n      <td>0.1</td>\n      <td>Please give a general description and introdu...</td>\n      <td>1</td>\n      <td>NaN</td>\n      <td>C1</td>\n      <td>Administrative boundary</td>\n      <td>City/Municipality</td>\n      <td>NaN</td>\n      <td>NaN</td>\n    </tr>\n    <tr>\n      <th>2</th>\n      <td>2017</td>\n      <td>61790</td>\n      <td>City of Emeryville, CA</td>\n      <td>0.1</td>\n      <td>Please give a general description and introdu...</td>\n      <td>1</td>\n      <td>NaN</td>\n      <td>C1</td>\n      <td>Administrative boundary</td>\n      <td>City/Municipality</td>\n      <td>NaN</td>\n      <td>NaN</td>\n    </tr>\n    <tr>\n      <th>3</th>\n      <td>2017</td>\n      <td>58485</td>\n      <td>Abington Township</td>\n      <td>0.1</td>\n      <td>Please give a general description and introdu...</td>\n      <td>1</td>\n      <td>NaN</td>\n      <td>C1</td>\n      <td>Administrative boundary</td>\n      <td>City/Municipality</td>\n      <td>NaN</td>\n      <td>NaN</td>\n    </tr>\n    <tr>\n      <th>4</th>\n      <td>2017</td>\n      <td>54102</td>\n      <td>City of Albany</td>\n      <td>0.1</td>\n      <td>Please give a general description and introdu...</td>\n      <td>1</td>\n      <td>NaN</td>\n      <td>C1</td>\n      <td>Administrative boundary</td>\n      <td>City/Municipality</td>\n      <td>NaN</td>\n      <td>NaN</td>\n    </tr>\n  </tbody>\n</table>\n</div>",
            "text/plain": "   Project Year  Account Number             Account Name Question Number  \\\n0          2017           63999  City of Miami Beach, FL             0.1   \n1          2017           62864    City of Lancaster, PA             0.1   \n2          2017           61790   City of Emeryville, CA             0.1   \n3          2017           58485        Abington Township             0.1   \n4          2017           54102           City of Albany             0.1   \n\n                                       Question Name  Row Number Row Name  \\\n0   Please give a general description and introdu...           1      NaN   \n1   Please give a general description and introdu...           1      NaN   \n2   Please give a general description and introdu...           1      NaN   \n3   Please give a general description and introdu...           1      NaN   \n4   Please give a general description and introdu...           1      NaN   \n\n  Column Number               Column Name    Response Answer Comments  \\\n0            C1   Administrative boundary  City/Municipality      NaN   \n1            C1   Administrative boundary  City/Municipality      NaN   \n2            C1   Administrative boundary  City/Municipality      NaN   \n3            C1   Administrative boundary  City/Municipality      NaN   \n4            C1   Administrative boundary  City/Municipality      NaN   \n\n  File Name  \n0       NaN  \n1       NaN  \n2       NaN  \n3       NaN  \n4       NaN  "
          },
          "execution_count": 67,
          "metadata": {},
          "output_type": "execute_result"
        }
      ],
      "source": [
        "import chardet\n",
        "def find_encoding(fname):\n",
        "    r_file = open(fname, 'rb').read()\n",
        "    result = chardet.detect(r_file)\n",
        "    charenc = result['encoding']\n",
        "    return charenc\n",
        "\n",
        "file = \"Cities_Data_2017-2019_mb2.csv\"\n",
        "my_encoding = find_encoding(file)\n",
        "df = pd.read_csv(file, encoding=my_encoding)\n",
        "# To display the top 5 rows \n",
        "df.head(5)"
      ]
    },
    {
      "cell_type": "code",
      "execution_count": 68,
      "metadata": {},
      "outputs": [
        {
          "data": {
            "text/html": "<div>\n<style scoped>\n    .dataframe tbody tr th:only-of-type {\n        vertical-align: middle;\n    }\n\n    .dataframe tbody tr th {\n        vertical-align: top;\n    }\n\n    .dataframe thead th {\n        text-align: right;\n    }\n</style>\n<table border=\"1\" class=\"dataframe\">\n  <thead>\n    <tr style=\"text-align: right;\">\n      <th></th>\n      <th>Project Year</th>\n      <th>Account Number</th>\n      <th>Account Name</th>\n      <th>Question Number</th>\n      <th>Question Name</th>\n      <th>Row Number</th>\n      <th>Row Name</th>\n      <th>Column Number</th>\n      <th>Column Name</th>\n      <th>Response Answer</th>\n      <th>Comments</th>\n      <th>File Name</th>\n    </tr>\n  </thead>\n  <tbody>\n    <tr>\n      <th>135506</th>\n      <td>2019</td>\n      <td>35894</td>\n      <td>Ville de Montreal</td>\n      <td>5.0a</td>\n      <td>Please provide details of your total city-wide...</td>\n      <td>1</td>\n      <td>NaN</td>\n      <td>12</td>\n      <td>Please indicate to which sector(s) the target ...</td>\n      <td>Industrial facilities</td>\n      <td>NaN</td>\n      <td>NaN</td>\n    </tr>\n    <tr>\n      <th>135507</th>\n      <td>2019</td>\n      <td>35894</td>\n      <td>Ville de Montreal</td>\n      <td>5.0a</td>\n      <td>Please provide details of your total city-wide...</td>\n      <td>1</td>\n      <td>NaN</td>\n      <td>13</td>\n      <td>Does this target align to a requirement from a...</td>\n      <td>No</td>\n      <td>NaN</td>\n      <td>NaN</td>\n    </tr>\n    <tr>\n      <th>135508</th>\n      <td>2019</td>\n      <td>35894</td>\n      <td>Ville de Montreal</td>\n      <td>5.0a</td>\n      <td>Please provide details of your total city-wide...</td>\n      <td>1</td>\n      <td>NaN</td>\n      <td>14</td>\n      <td>Please describe your target. If your country h...</td>\n      <td>Baseline emissions have been updated. Please r...</td>\n      <td>NaN</td>\n      <td>NaN</td>\n    </tr>\n    <tr>\n      <th>135509</th>\n      <td>2019</td>\n      <td>35894</td>\n      <td>Ville de Montreal</td>\n      <td>8.0b</td>\n      <td>Please explain why you do not have a renewable...</td>\n      <td>1</td>\n      <td>Please explain</td>\n      <td>1</td>\n      <td>Reasoning</td>\n      <td>Other</td>\n      <td>NaN</td>\n      <td>NaN</td>\n    </tr>\n    <tr>\n      <th>135510</th>\n      <td>2019</td>\n      <td>35894</td>\n      <td>Ville de Montreal</td>\n      <td>8.0b</td>\n      <td>Please explain why you do not have a renewable...</td>\n      <td>1</td>\n      <td>Please explain</td>\n      <td>2</td>\n      <td>Comment</td>\n      <td>Montreal's electrical energy source is mostly ...</td>\n      <td>NaN</td>\n      <td>NaN</td>\n    </tr>\n  </tbody>\n</table>\n</div>",
            "text/plain": "        Project Year  Account Number       Account Name Question Number  \\\n135506          2019           35894  Ville de Montreal            5.0a   \n135507          2019           35894  Ville de Montreal            5.0a   \n135508          2019           35894  Ville de Montreal            5.0a   \n135509          2019           35894  Ville de Montreal            8.0b   \n135510          2019           35894  Ville de Montreal            8.0b   \n\n                                            Question Name  Row Number  \\\n135506  Please provide details of your total city-wide...           1   \n135507  Please provide details of your total city-wide...           1   \n135508  Please provide details of your total city-wide...           1   \n135509  Please explain why you do not have a renewable...           1   \n135510  Please explain why you do not have a renewable...           1   \n\n              Row Name Column Number  \\\n135506             NaN            12   \n135507             NaN            13   \n135508             NaN            14   \n135509  Please explain             1   \n135510  Please explain             2   \n\n                                              Column Name  \\\n135506  Please indicate to which sector(s) the target ...   \n135507  Does this target align to a requirement from a...   \n135508  Please describe your target. If your country h...   \n135509                                          Reasoning   \n135510                                            Comment   \n\n                                          Response Answer Comments File Name  \n135506                              Industrial facilities      NaN       NaN  \n135507                                                 No      NaN       NaN  \n135508  Baseline emissions have been updated. Please r...      NaN       NaN  \n135509                                              Other      NaN       NaN  \n135510  Montreal's electrical energy source is mostly ...      NaN       NaN  "
          },
          "execution_count": 68,
          "metadata": {},
          "output_type": "execute_result"
        }
      ],
      "source": [
        "df.tail(5)                        # To display the botton 5 rows"
      ]
    },
    {
      "cell_type": "markdown",
      "execution_count": null,
      "metadata": {
        "colab_type": "text",
        "id": "JjQnr4SPzaL5"
      },
      "outputs": [],
      "source": [
        "\n",
        "\n",
        "---\n",
        "\n"
      ]
    },
    {
      "cell_type": "markdown",
      "execution_count": null,
      "metadata": {
        "colab_type": "text",
        "id": "vAmC369yTpMF"
      },
      "outputs": [],
      "source": [
        "## 3. Checking the types of data"
      ]
    },
    {
      "cell_type": "markdown",
      "execution_count": null,
      "metadata": {
        "colab_type": "text",
        "id": "9ESKxikIzA1d"
      },
      "outputs": [],
      "source": [
        "Here we check for the datatypes because sometimes numbers are stored as a strings.  If in that case, we have to convert to plot the data via a graph. \n",
        "object types refer to mixed types or variable length strings. See [Pandas types](https://pbpython.com/pandas_dtypes.html)."
      ]
    },
    {
      "cell_type": "code",
      "execution_count": 69,
      "metadata": {},
      "outputs": [
        {
          "name": "stdout",
          "output_type": "stream",
          "text": "<class 'pandas.core.frame.DataFrame'>\nRangeIndex: 135511 entries, 0 to 135510\nData columns (total 12 columns):\nProject Year       135511 non-null int64\nAccount Number     135511 non-null int64\nAccount Name       135509 non-null object\nQuestion Number    135511 non-null object\nQuestion Name      135510 non-null object\nRow Number         135511 non-null int64\nRow Name           8932 non-null object\nColumn Number      132005 non-null object\nColumn Name        130376 non-null object\nResponse Answer    106365 non-null object\nComments           4012 non-null object\nFile Name          371 non-null object\ndtypes: int64(3), object(9)\nmemory usage: 12.4+ MB\n"
        }
      ],
      "source": [
        "df.info()"
      ]
    },
    {
      "cell_type": "markdown",
      "execution_count": null,
      "metadata": {
        "colab_type": "text",
        "id": "beRJyQAezdX8"
      },
      "outputs": [],
      "source": [
        "\n",
        "\n",
        "---\n",
        "\n"
      ]
    },
    {
      "cell_type": "markdown",
      "execution_count": null,
      "metadata": {
        "colab_type": "text",
        "id": "QoHuBhXxT5E9"
      },
      "outputs": [],
      "source": [
        "## Cleaning Up the Data"
      ]
    },
    {
      "cell_type": "markdown",
      "execution_count": null,
      "metadata": {
        "colab_type": "text",
        "id": "_3cy877Mze4H"
      },
      "outputs": [],
      "source": [
        "### Dropping and Renaming Columns\n",
        "\n",
        "This step is certainly needed in every EDA because sometimes there would be many columns that we never use in such cases dropping is the only solution. In this case, the columns such as Row Number or Column Number doesn't make any sense to me so I just dropped for this instance."
      ]
    },
    {
      "cell_type": "code",
      "execution_count": 70,
      "metadata": {},
      "outputs": [
        {
          "data": {
            "text/html": "<div>\n<style scoped>\n    .dataframe tbody tr th:only-of-type {\n        vertical-align: middle;\n    }\n\n    .dataframe tbody tr th {\n        vertical-align: top;\n    }\n\n    .dataframe thead th {\n        text-align: right;\n    }\n</style>\n<table border=\"1\" class=\"dataframe\">\n  <thead>\n    <tr style=\"text-align: right;\">\n      <th></th>\n      <th>Project Year</th>\n      <th>Account Number</th>\n      <th>Account Name</th>\n      <th>Question Number</th>\n      <th>Question Name</th>\n      <th>Row Name</th>\n      <th>Column Name</th>\n      <th>Response Answer</th>\n      <th>Comments</th>\n      <th>File Name</th>\n    </tr>\n  </thead>\n  <tbody>\n    <tr>\n      <th>135506</th>\n      <td>2019</td>\n      <td>35894</td>\n      <td>Ville de Montreal</td>\n      <td>5.0a</td>\n      <td>Please provide details of your total city-wide...</td>\n      <td>NaN</td>\n      <td>Please indicate to which sector(s) the target ...</td>\n      <td>Industrial facilities</td>\n      <td>NaN</td>\n      <td>NaN</td>\n    </tr>\n    <tr>\n      <th>135507</th>\n      <td>2019</td>\n      <td>35894</td>\n      <td>Ville de Montreal</td>\n      <td>5.0a</td>\n      <td>Please provide details of your total city-wide...</td>\n      <td>NaN</td>\n      <td>Does this target align to a requirement from a...</td>\n      <td>No</td>\n      <td>NaN</td>\n      <td>NaN</td>\n    </tr>\n    <tr>\n      <th>135508</th>\n      <td>2019</td>\n      <td>35894</td>\n      <td>Ville de Montreal</td>\n      <td>5.0a</td>\n      <td>Please provide details of your total city-wide...</td>\n      <td>NaN</td>\n      <td>Please describe your target. If your country h...</td>\n      <td>Baseline emissions have been updated. Please r...</td>\n      <td>NaN</td>\n      <td>NaN</td>\n    </tr>\n    <tr>\n      <th>135509</th>\n      <td>2019</td>\n      <td>35894</td>\n      <td>Ville de Montreal</td>\n      <td>8.0b</td>\n      <td>Please explain why you do not have a renewable...</td>\n      <td>Please explain</td>\n      <td>Reasoning</td>\n      <td>Other</td>\n      <td>NaN</td>\n      <td>NaN</td>\n    </tr>\n    <tr>\n      <th>135510</th>\n      <td>2019</td>\n      <td>35894</td>\n      <td>Ville de Montreal</td>\n      <td>8.0b</td>\n      <td>Please explain why you do not have a renewable...</td>\n      <td>Please explain</td>\n      <td>Comment</td>\n      <td>Montreal's electrical energy source is mostly ...</td>\n      <td>NaN</td>\n      <td>NaN</td>\n    </tr>\n  </tbody>\n</table>\n</div>",
            "text/plain": "        Project Year  Account Number       Account Name Question Number  \\\n135506          2019           35894  Ville de Montreal            5.0a   \n135507          2019           35894  Ville de Montreal            5.0a   \n135508          2019           35894  Ville de Montreal            5.0a   \n135509          2019           35894  Ville de Montreal            8.0b   \n135510          2019           35894  Ville de Montreal            8.0b   \n\n                                            Question Name        Row Name  \\\n135506  Please provide details of your total city-wide...             NaN   \n135507  Please provide details of your total city-wide...             NaN   \n135508  Please provide details of your total city-wide...             NaN   \n135509  Please explain why you do not have a renewable...  Please explain   \n135510  Please explain why you do not have a renewable...  Please explain   \n\n                                              Column Name  \\\n135506  Please indicate to which sector(s) the target ...   \n135507  Does this target align to a requirement from a...   \n135508  Please describe your target. If your country h...   \n135509                                          Reasoning   \n135510                                            Comment   \n\n                                          Response Answer Comments File Name  \n135506                              Industrial facilities      NaN       NaN  \n135507                                                 No      NaN       NaN  \n135508  Baseline emissions have been updated. Please r...      NaN       NaN  \n135509                                              Other      NaN       NaN  \n135510  Montreal's electrical energy source is mostly ...      NaN       NaN  "
          },
          "execution_count": 70,
          "metadata": {},
          "output_type": "execute_result"
        }
      ],
      "source": [
        "df = df.drop([\"Row Number\", \"Column Number\"], axis=1)\n",
        "df.tail(5)"
      ]
    },
    {
      "cell_type": "markdown",
      "execution_count": null,
      "metadata": {
        "colab_type": "text",
        "id": "20OeQBpWz89v"
      },
      "outputs": [],
      "source": [
        "\n",
        "\n",
        "---\n",
        "\n"
      ]
    },
    {
      "cell_type": "code",
      "execution_count": 71,
      "metadata": {},
      "outputs": [
        {
          "data": {
            "text/html": "<div>\n<style scoped>\n    .dataframe tbody tr th:only-of-type {\n        vertical-align: middle;\n    }\n\n    .dataframe tbody tr th {\n        vertical-align: top;\n    }\n\n    .dataframe thead th {\n        text-align: right;\n    }\n</style>\n<table border=\"1\" class=\"dataframe\">\n  <thead>\n    <tr style=\"text-align: right;\">\n      <th></th>\n      <th>Project Year</th>\n      <th>Account ID</th>\n      <th>Account Name</th>\n      <th>Question ID</th>\n      <th>Question Name</th>\n      <th>Row Name</th>\n      <th>Column Name</th>\n      <th>Response Answer</th>\n      <th>Comments</th>\n      <th>File Name</th>\n    </tr>\n  </thead>\n  <tbody>\n    <tr>\n      <th>0</th>\n      <td>2017</td>\n      <td>63999</td>\n      <td>City of Miami Beach, FL</td>\n      <td>0.1</td>\n      <td>Please give a general description and introdu...</td>\n      <td>NaN</td>\n      <td>Administrative boundary</td>\n      <td>City/Municipality</td>\n      <td>NaN</td>\n      <td>NaN</td>\n    </tr>\n    <tr>\n      <th>1</th>\n      <td>2017</td>\n      <td>62864</td>\n      <td>City of Lancaster, PA</td>\n      <td>0.1</td>\n      <td>Please give a general description and introdu...</td>\n      <td>NaN</td>\n      <td>Administrative boundary</td>\n      <td>City/Municipality</td>\n      <td>NaN</td>\n      <td>NaN</td>\n    </tr>\n    <tr>\n      <th>2</th>\n      <td>2017</td>\n      <td>61790</td>\n      <td>City of Emeryville, CA</td>\n      <td>0.1</td>\n      <td>Please give a general description and introdu...</td>\n      <td>NaN</td>\n      <td>Administrative boundary</td>\n      <td>City/Municipality</td>\n      <td>NaN</td>\n      <td>NaN</td>\n    </tr>\n    <tr>\n      <th>3</th>\n      <td>2017</td>\n      <td>58485</td>\n      <td>Abington Township</td>\n      <td>0.1</td>\n      <td>Please give a general description and introdu...</td>\n      <td>NaN</td>\n      <td>Administrative boundary</td>\n      <td>City/Municipality</td>\n      <td>NaN</td>\n      <td>NaN</td>\n    </tr>\n    <tr>\n      <th>4</th>\n      <td>2017</td>\n      <td>54102</td>\n      <td>City of Albany</td>\n      <td>0.1</td>\n      <td>Please give a general description and introdu...</td>\n      <td>NaN</td>\n      <td>Administrative boundary</td>\n      <td>City/Municipality</td>\n      <td>NaN</td>\n      <td>NaN</td>\n    </tr>\n  </tbody>\n</table>\n</div>",
            "text/plain": "   Project Year  Account ID             Account Name Question ID  \\\n0          2017       63999  City of Miami Beach, FL         0.1   \n1          2017       62864    City of Lancaster, PA         0.1   \n2          2017       61790   City of Emeryville, CA         0.1   \n3          2017       58485        Abington Township         0.1   \n4          2017       54102           City of Albany         0.1   \n\n                                       Question Name Row Name  \\\n0   Please give a general description and introdu...      NaN   \n1   Please give a general description and introdu...      NaN   \n2   Please give a general description and introdu...      NaN   \n3   Please give a general description and introdu...      NaN   \n4   Please give a general description and introdu...      NaN   \n\n                Column Name    Response Answer Comments File Name  \n0   Administrative boundary  City/Municipality      NaN       NaN  \n1   Administrative boundary  City/Municipality      NaN       NaN  \n2   Administrative boundary  City/Municipality      NaN       NaN  \n3   Administrative boundary  City/Municipality      NaN       NaN  \n4   Administrative boundary  City/Municipality      NaN       NaN  "
          },
          "execution_count": 71,
          "metadata": {},
          "output_type": "execute_result"
        }
      ],
      "source": [
        "df = df.rename(columns={\"Account Number\": \"Account ID\", \"Question Number\" : \"Question ID\"})\n",
        "df.head(5)"
      ]
    },
    {
      "cell_type": "markdown",
      "execution_count": null,
      "metadata": {
        "colab_type": "text",
        "id": "5tcGiOmV0afN"
      },
      "outputs": [],
      "source": [
        "\n",
        "\n",
        "---\n",
        "\n"
      ]
    },
    {
      "cell_type": "markdown",
      "execution_count": null,
      "metadata": {
        "colab_type": "text",
        "id": "uiW7x_O4WIDX"
      },
      "outputs": [],
      "source": [
        "### Dropping the duplicate rows"
      ]
    },
    {
      "cell_type": "markdown",
      "execution_count": null,
      "metadata": {
        "colab_type": "text",
        "id": "9LpR5NW70hXm"
      },
      "outputs": [],
      "source": [
        "This is often a handy thing to do because duplicate rows often don't add useful information to a dataset."
      ]
    },
    {
      "cell_type": "code",
      "execution_count": 72,
      "metadata": {},
      "outputs": [
        {
          "name": "stdout",
          "output_type": "stream",
          "text": "number of duplicate rows:  (47474, 10)\n"
        },
        {
          "data": {
            "text/plain": "Project Year       135511\nAccount ID         135511\nAccount Name       135509\nQuestion ID        135511\nQuestion Name      135510\nRow Name             8932\nColumn Name        130376\nResponse Answer    106365\nComments             4012\nFile Name             371\ndtype: int64"
          },
          "execution_count": 72,
          "metadata": {},
          "output_type": "execute_result"
        }
      ],
      "source": [
        "duplicate_rows_df = df[df.duplicated()]\n",
        "print(\"number of duplicate rows: \", duplicate_rows_df.shape)\n",
        "df.count()      # Used to count the number of rows"
      ]
    },
    {
      "cell_type": "code",
      "execution_count": 73,
      "metadata": {},
      "outputs": [
        {
          "data": {
            "text/html": "<div>\n<style scoped>\n    .dataframe tbody tr th:only-of-type {\n        vertical-align: middle;\n    }\n\n    .dataframe tbody tr th {\n        vertical-align: top;\n    }\n\n    .dataframe thead th {\n        text-align: right;\n    }\n</style>\n<table border=\"1\" class=\"dataframe\">\n  <thead>\n    <tr style=\"text-align: right;\">\n      <th></th>\n      <th>Project Year</th>\n      <th>Account ID</th>\n      <th>Account Name</th>\n      <th>Question ID</th>\n      <th>Question Name</th>\n      <th>Row Name</th>\n      <th>Column Name</th>\n      <th>Response Answer</th>\n      <th>Comments</th>\n      <th>File Name</th>\n    </tr>\n  </thead>\n  <tbody>\n    <tr>\n      <th>0</th>\n      <td>2017</td>\n      <td>63999</td>\n      <td>City of Miami Beach, FL</td>\n      <td>0.1</td>\n      <td>Please give a general description and introdu...</td>\n      <td>NaN</td>\n      <td>Administrative boundary</td>\n      <td>City/Municipality</td>\n      <td>NaN</td>\n      <td>NaN</td>\n    </tr>\n    <tr>\n      <th>1</th>\n      <td>2017</td>\n      <td>62864</td>\n      <td>City of Lancaster, PA</td>\n      <td>0.1</td>\n      <td>Please give a general description and introdu...</td>\n      <td>NaN</td>\n      <td>Administrative boundary</td>\n      <td>City/Municipality</td>\n      <td>NaN</td>\n      <td>NaN</td>\n    </tr>\n    <tr>\n      <th>2</th>\n      <td>2017</td>\n      <td>61790</td>\n      <td>City of Emeryville, CA</td>\n      <td>0.1</td>\n      <td>Please give a general description and introdu...</td>\n      <td>NaN</td>\n      <td>Administrative boundary</td>\n      <td>City/Municipality</td>\n      <td>NaN</td>\n      <td>NaN</td>\n    </tr>\n    <tr>\n      <th>3</th>\n      <td>2017</td>\n      <td>58485</td>\n      <td>Abington Township</td>\n      <td>0.1</td>\n      <td>Please give a general description and introdu...</td>\n      <td>NaN</td>\n      <td>Administrative boundary</td>\n      <td>City/Municipality</td>\n      <td>NaN</td>\n      <td>NaN</td>\n    </tr>\n    <tr>\n      <th>4</th>\n      <td>2017</td>\n      <td>54102</td>\n      <td>City of Albany</td>\n      <td>0.1</td>\n      <td>Please give a general description and introdu...</td>\n      <td>NaN</td>\n      <td>Administrative boundary</td>\n      <td>City/Municipality</td>\n      <td>NaN</td>\n      <td>NaN</td>\n    </tr>\n  </tbody>\n</table>\n</div>",
            "text/plain": "   Project Year  Account ID             Account Name Question ID  \\\n0          2017       63999  City of Miami Beach, FL         0.1   \n1          2017       62864    City of Lancaster, PA         0.1   \n2          2017       61790   City of Emeryville, CA         0.1   \n3          2017       58485        Abington Township         0.1   \n4          2017       54102           City of Albany         0.1   \n\n                                       Question Name Row Name  \\\n0   Please give a general description and introdu...      NaN   \n1   Please give a general description and introdu...      NaN   \n2   Please give a general description and introdu...      NaN   \n3   Please give a general description and introdu...      NaN   \n4   Please give a general description and introdu...      NaN   \n\n                Column Name    Response Answer Comments File Name  \n0   Administrative boundary  City/Municipality      NaN       NaN  \n1   Administrative boundary  City/Municipality      NaN       NaN  \n2   Administrative boundary  City/Municipality      NaN       NaN  \n3   Administrative boundary  City/Municipality      NaN       NaN  \n4   Administrative boundary  City/Municipality      NaN       NaN  "
          },
          "execution_count": 73,
          "metadata": {},
          "output_type": "execute_result"
        }
      ],
      "source": [
        "df = df.drop_duplicates()\n",
        "df.head(5)"
      ]
    },
    {
      "cell_type": "code",
      "execution_count": 74,
      "metadata": {},
      "outputs": [
        {
          "name": "stdout",
          "output_type": "stream",
          "text": "NEW number of duplicate rows:  (0, 10)\n"
        },
        {
          "data": {
            "text/plain": "Project Year       88037\nAccount ID         88037\nAccount Name       88035\nQuestion ID        88037\nQuestion Name      88036\nRow Name            8932\nColumn Name        82902\nResponse Answer    74198\nComments            2536\nFile Name            368\ndtype: int64"
          },
          "execution_count": 74,
          "metadata": {},
          "output_type": "execute_result"
        }
      ],
      "source": [
        "duplicate_rows_df = df[df.duplicated()]\n",
        "print(\"NEW number of duplicate rows: \", duplicate_rows_df.shape)\n",
        "df.count()      # Used to count the number of rows"
      ]
    },
    {
      "cell_type": "markdown",
      "execution_count": null,
      "metadata": {
        "colab_type": "text",
        "id": "zCLUdZOQ1PDP"
      },
      "outputs": [],
      "source": [
        "\n",
        "\n",
        "---\n",
        "\n"
      ]
    },
    {
      "cell_type": "markdown",
      "execution_count": null,
      "metadata": {},
      "outputs": [],
      "source": [
        "# Exploring the Data\n"
      ]
    },
    {
      "cell_type": "markdown",
      "metadata": {},
      "source": [
        "### Find and Transform Unique Data\n",
        "Once found, the data can then be transformed into an form that makes more sense to process/analyse"
      ]
    },
    {
      "cell_type": "code",
      "execution_count": 116,
      "metadata": {},
      "outputs": [
        {
          "name": "stdout",
          "output_type": "stream",
          "text": "Unique Values:\n3 \t Project Year\n219 \t Account ID\n224 \t Account Name\n81 \t Question ID\n101 \t Question Name\n30 \t Row Name\n252 \t Column Name\n20905 \t Response Answer\n227 \t Comments\n328 \t File Name\n"
        }
      ],
      "source": [
        "# Select a column name to view unique values for that Column\n",
        "print(\"Unique Values:\")\n",
        "uniques = {}\n",
        "for col in list(df.columns):\n",
        "    uniques[str(col)] = pd.unique(df[str(col)])\n",
        "    print(len(uniques[str(col)]), \"\\t\", col,)"
      ]
    },
    {
      "cell_type": "code",
      "execution_count": 122,
      "metadata": {},
      "outputs": [
        {
          "name": "stdout",
          "output_type": "stream",
          "text": "Project Year \n [2017 2018 2019] ...\nAccount ID \n [63999 62864 61790] ...\nQuestion ID \n ['0.1' '0.2' '0.3'] ...\nAccount Name \n ['City of Miami Beach, FL' 'City of Lancaster, PA'\n 'City of Emeryville, CA'] ...\nColumn Name \n [' Administrative boundary' ' Description of city'\n ' Government , Community, None'] ...\nComments \n [nan\n 'Arlington County Board members (5 elected at-large) serve 4-year terms. The Chairmanship rotates among the five elected Board members, a new Chair every January 1 for the following 12 months.'\n 'Strategies have been defined in the greenhouse gas inventory report to reduce emissions County-wide'] ...\nFile Name \n [nan ' vulnerability-assessment (1).pdf'\n ' BrowardCAPReport2015_FINAL DRAFT_01252016.pdf'] ...\nResponse Answer \n ['City/Municipality' 'County' 'Other: Consolidated City County Government'] ...\nRow Name \n [nan 'City boundary' 'Please complete'] ...\nQuestion Name \n [' Please give a general description and introduction to your city including your city\\x92s boundary in the text box below. '\n ' Emissions Accounting ChoiceReporting emissions is optional for all cities. By checking the boxes below you are indicating that you have fuel and/or greenhouse gas (GHG) emissions data to report at this time.\\xa0Select \\x91Government\\x92 to report emissions from your local government operations (sometimes referred to as \\x91corporate\\x92 or \\x91municipal\\x92 emissions).Select \\x91Community\\x92 to report emissions from the entire city area over which the city government can exercise a degree of influence through the policies and regulations they implement (sometimes referred to as \\x91geographic\\x92 or \\x91city wide\\x92 emissions).Select both boxes to report fuel and/or emissions for both inventories.\\xa0IF YOU HAVE NO FUEL AND/OR GREENHOUSE GAS EMISSIONS TO REPORT DO NOT CHECK EITHER BOX.'\n \" Please provide information about your city's Mayor in the table below.\\xa0 \"] ...\n"
        }
      ],
      "source": [
        "# Print a sample overview of the data\n",
        "for col in uniques.keys():\n",
        "    print(col, \"\\n\", uniques[col][:3], \"...\")\n"
      ]
    },
    {
      "cell_type": "code",
      "execution_count": 129,
      "metadata": {},
      "outputs": [
        {
          "name": "stdout",
          "output_type": "stream",
          "text": "Question Name 10 / 101 \n\n[' Please give a general description and introduction to your city including your city\\x92s boundary in the text box below. '\n ' Emissions Accounting ChoiceReporting emissions is optional for all cities. By checking the boxes below you are indicating that you have fuel and/or greenhouse gas (GHG) emissions data to report at this time.\\xa0Select \\x91Government\\x92 to report emissions from your local government operations (sometimes referred to as \\x91corporate\\x92 or \\x91municipal\\x92 emissions).Select \\x91Community\\x92 to report emissions from the entire city area over which the city government can exercise a degree of influence through the policies and regulations they implement (sometimes referred to as \\x91geographic\\x92 or \\x91city wide\\x92 emissions).Select both boxes to report fuel and/or emissions for both inventories.\\xa0IF YOU HAVE NO FUEL AND/OR GREENHOUSE GAS EMISSIONS TO REPORT DO NOT CHECK EITHER BOX.'\n \" Please provide information about your city's Mayor in the table below.\\xa0 \"\n ' Please provide details of your city\\x92s annual operating budget. '\n ' Please provide details of your city\\x92s current and projected population. '\n ' Please provide further details about the geography of your city. '\n ' Has a climate change risk or vulnerability assessment been undertaken for your local government area? '\n ' Please attach and provide details on\\xa0your climate change risk or vulnerability assessment.\\xa0Please provide details on the boundary of your assessment, and where this differs from your city\\x92s boundary, please provide an explanation. '\n ' Please select the primary process or methodology used to undertake the risk or vulnerability assessment of your city.?\\xa0If your city uses a combination of methodologies, please select the main methodology used. '\n ' Do the current and/or anticipated effects of climate change present a significant risk to your city? ']\n"
        }
      ],
      "source": [
        "# Zoom in on the unique values of a paticular column\n",
        "col = \"Question Name\"\n",
        "items = 10\n",
        "print(col, items, \"/\", len(uniques[col]), \"\\n\",)\n",
        "print(uniques[col][:items])\n"
      ]
    },
    {
      "cell_type": "markdown",
      "execution_count": null,
      "metadata": {
        "colab_type": "text",
        "id": "8Py3sQc_ZxyU"
      },
      "outputs": [],
      "source": [
        "## Detecting Outliers"
      ]
    },
    {
      "cell_type": "markdown",
      "execution_count": null,
      "metadata": {
        "colab_type": "text",
        "id": "1g6CJPofZzHN"
      },
      "outputs": [],
      "source": [
        "An outlier is a point or set of points that are different from other points. Sometimes they can be very high or very low. It's often a good idea to detect and remove the outliers. Because outliers are one of the primary reasons for resulting in a less accurate model. Hence it's a good idea to remove them. "
      ]
    },
    {
      "cell_type": "markdown",
      "execution_count": null,
      "metadata": {
        "colab_type": "text",
        "id": "Z-W6Q9-hJosZ"
      },
      "outputs": [],
      "source": [
        "### Histogram\n",
        "\n",
        "Histogram refers to the frequency of occurrence of variables in an interval. "
      ]
    },
    {
      "cell_type": "code",
      "execution_count": 76,
      "metadata": {},
      "outputs": [],
      "source": [
        "# df.Make.value_counts().nlargest(40).plot(kind='bar', figsize=(10,5))\n",
        "# plt.title(\"Number of cars by make\")\n",
        "# plt.ylabel('Number of cars')\n",
        "# plt.xlabel('Make');\n",
        "pass"
      ]
    },
    {
      "cell_type": "markdown",
      "execution_count": null,
      "metadata": {
        "colab_type": "text",
        "id": "hQXy8o_gKFS5"
      },
      "outputs": [],
      "source": [
        "**Hence the above are some of the steps involved in Exploratory data analysis, these are some general steps that you must follow in order to perform EDA. There are many more yet to come but for now, this is more than enough idea as to how to perform a good EDA given any data sets. Stay tuned for more updates.**\n",
        "\n",
        "## Thank you."
      ]
    }
  ]
}