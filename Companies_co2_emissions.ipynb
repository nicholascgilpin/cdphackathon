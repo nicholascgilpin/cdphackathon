{
 "cells": [
  {
   "cell_type": "code",
   "execution_count": 3,
   "metadata": {},
   "outputs": [],
   "source": [
    "import pandas as pd\n",
    "import numpy as np\n",
    "import seaborn as sns                       #visualisation\n",
    "import matplotlib.pyplot as plt             #visualisation\n",
    "%matplotlib inline     \n",
    "sns.set(color_codes=True)"
   ]
  },
  {
   "cell_type": "code",
   "execution_count": 27,
   "metadata": {
    "scrolled": false
   },
   "outputs": [
    {
     "data": {
      "text/html": [
       "<div>\n",
       "<style scoped>\n",
       "    .dataframe tbody tr th:only-of-type {\n",
       "        vertical-align: middle;\n",
       "    }\n",
       "\n",
       "    .dataframe tbody tr th {\n",
       "        vertical-align: top;\n",
       "    }\n",
       "\n",
       "    .dataframe thead th {\n",
       "        text-align: right;\n",
       "    }\n",
       "</style>\n",
       "<table border=\"1\" class=\"dataframe\">\n",
       "  <thead>\n",
       "    <tr style=\"text-align: right;\">\n",
       "      <th></th>\n",
       "      <th>Project Year</th>\n",
       "      <th>Account Number</th>\n",
       "      <th>Account Name</th>\n",
       "      <th>Question Number</th>\n",
       "      <th>Question Name</th>\n",
       "      <th>Row Number</th>\n",
       "      <th>Row Name</th>\n",
       "      <th>Column Number</th>\n",
       "      <th>Column Name</th>\n",
       "      <th>Response Answer</th>\n",
       "    </tr>\n",
       "  </thead>\n",
       "  <tbody>\n",
       "    <tr>\n",
       "      <th>0</th>\n",
       "      <td>2015</td>\n",
       "      <td>58</td>\n",
       "      <td>ABM INDUSTRIES INC</td>\n",
       "      <td>CC0.1</td>\n",
       "      <td>Introduction Please give a general descriptio...</td>\n",
       "      <td>1</td>\n",
       "      <td>NaN</td>\n",
       "      <td>C0a</td>\n",
       "      <td>NaN</td>\n",
       "      <td>ABM (NYSE: ABM) is a leading provider of facil...</td>\n",
       "    </tr>\n",
       "    <tr>\n",
       "      <th>1</th>\n",
       "      <td>2015</td>\n",
       "      <td>64</td>\n",
       "      <td>Abbott Laboratories</td>\n",
       "      <td>CC0.1</td>\n",
       "      <td>Introduction Please give a general descriptio...</td>\n",
       "      <td>1</td>\n",
       "      <td>NaN</td>\n",
       "      <td>C0a</td>\n",
       "      <td>NaN</td>\n",
       "      <td>NaN</td>\n",
       "    </tr>\n",
       "    <tr>\n",
       "      <th>2</th>\n",
       "      <td>2015</td>\n",
       "      <td>119</td>\n",
       "      <td>Resolute Forest Products Inc.</td>\n",
       "      <td>CC0.1</td>\n",
       "      <td>Introduction Please give a general descriptio...</td>\n",
       "      <td>1</td>\n",
       "      <td>NaN</td>\n",
       "      <td>C0a</td>\n",
       "      <td>NaN</td>\n",
       "      <td>NaN</td>\n",
       "    </tr>\n",
       "    <tr>\n",
       "      <th>3</th>\n",
       "      <td>2015</td>\n",
       "      <td>234</td>\n",
       "      <td>Advanced Call Center Technologies, LLC</td>\n",
       "      <td>CC0.1</td>\n",
       "      <td>Introduction Please give a general descriptio...</td>\n",
       "      <td>1</td>\n",
       "      <td>NaN</td>\n",
       "      <td>C0a</td>\n",
       "      <td>NaN</td>\n",
       "      <td>ACT is domestic (USA) outsourced call center s...</td>\n",
       "    </tr>\n",
       "    <tr>\n",
       "      <th>4</th>\n",
       "      <td>2015</td>\n",
       "      <td>285</td>\n",
       "      <td>3M Company</td>\n",
       "      <td>CC0.1</td>\n",
       "      <td>Introduction Please give a general descriptio...</td>\n",
       "      <td>1</td>\n",
       "      <td>NaN</td>\n",
       "      <td>C0a</td>\n",
       "      <td>NaN</td>\n",
       "      <td>NaN</td>\n",
       "    </tr>\n",
       "  </tbody>\n",
       "</table>\n",
       "</div>"
      ],
      "text/plain": [
       "   Project Year  Account Number                            Account Name  \\\n",
       "0          2015              58                      ABM INDUSTRIES INC   \n",
       "1          2015              64                     Abbott Laboratories   \n",
       "2          2015             119           Resolute Forest Products Inc.   \n",
       "3          2015             234  Advanced Call Center Technologies, LLC   \n",
       "4          2015             285                              3M Company   \n",
       "\n",
       "  Question Number                                      Question Name  \\\n",
       "0           CC0.1   Introduction Please give a general descriptio...   \n",
       "1           CC0.1   Introduction Please give a general descriptio...   \n",
       "2           CC0.1   Introduction Please give a general descriptio...   \n",
       "3           CC0.1   Introduction Please give a general descriptio...   \n",
       "4           CC0.1   Introduction Please give a general descriptio...   \n",
       "\n",
       "   Row Number  Row Name Column Number Column Name  \\\n",
       "0           1       NaN           C0a         NaN   \n",
       "1           1       NaN           C0a         NaN   \n",
       "2           1       NaN           C0a         NaN   \n",
       "3           1       NaN           C0a         NaN   \n",
       "4           1       NaN           C0a         NaN   \n",
       "\n",
       "                                     Response Answer  \n",
       "0  ABM (NYSE: ABM) is a leading provider of facil...  \n",
       "1                                                NaN  \n",
       "2                                                NaN  \n",
       "3  ACT is domestic (USA) outsourced call center s...  \n",
       "4                                                NaN  "
      ]
     },
     "execution_count": 27,
     "metadata": {},
     "output_type": "execute_result"
    }
   ],
   "source": [
    "df = pd.read_csv(\"./dataset/2015-2017_CorporateCC_mb2.csv\",engine = 'python')\n",
    "# To display the top 5 rows \n",
    "df.head(5)"
   ]
  },
  {
   "cell_type": "markdown",
   "metadata": {},
   "source": [
    "**Check the data types**"
   ]
  },
  {
   "cell_type": "code",
   "execution_count": 115,
   "metadata": {},
   "outputs": [
    {
     "data": {
      "text/plain": [
       "Project Year           int64\n",
       "Company_unique_key     int64\n",
       "Company               object\n",
       "Question Number       object\n",
       "Question Name         object\n",
       "Row Number             int64\n",
       "Column Number         object\n",
       "Column Name           object\n",
       "Response Answer       object\n",
       "dtype: object"
      ]
     },
     "execution_count": 115,
     "metadata": {},
     "output_type": "execute_result"
    }
   ],
   "source": [
    "df.dtypes"
   ]
  },
  {
   "cell_type": "code",
   "execution_count": 22,
   "metadata": {},
   "outputs": [
    {
     "data": {
      "text/plain": [
       "Project Year       716739\n",
       "Account Number     716739\n",
       "Account Name       716739\n",
       "Question Number    716739\n",
       "Question Name      709365\n",
       "Row Number         716739\n",
       "Row Name                0\n",
       "Column Number      709365\n",
       "Column Name        682533\n",
       "Response Answer    382545\n",
       "dtype: int64"
      ]
     },
     "execution_count": 22,
     "metadata": {},
     "output_type": "execute_result"
    }
   ],
   "source": [
    "df.count()"
   ]
  },
  {
   "cell_type": "markdown",
   "metadata": {},
   "source": [
    "**Check for null values in the dataset**"
   ]
  },
  {
   "cell_type": "code",
   "execution_count": 28,
   "metadata": {},
   "outputs": [
    {
     "data": {
      "text/plain": [
       "716739"
      ]
     },
     "execution_count": 28,
     "metadata": {},
     "output_type": "execute_result"
    }
   ],
   "source": [
    "df['Row Name'].isnull().sum()"
   ]
  },
  {
   "cell_type": "code",
   "execution_count": null,
   "metadata": {},
   "outputs": [],
   "source": [
    "#Since the column Row name all the values are blank. We may completely eliminate the column Row Name"
   ]
  },
  {
   "cell_type": "markdown",
   "metadata": {},
   "source": [
    "**Remove the column Row Name**"
   ]
  },
  {
   "cell_type": "code",
   "execution_count": 29,
   "metadata": {},
   "outputs": [
    {
     "data": {
      "text/html": [
       "<div>\n",
       "<style scoped>\n",
       "    .dataframe tbody tr th:only-of-type {\n",
       "        vertical-align: middle;\n",
       "    }\n",
       "\n",
       "    .dataframe tbody tr th {\n",
       "        vertical-align: top;\n",
       "    }\n",
       "\n",
       "    .dataframe thead th {\n",
       "        text-align: right;\n",
       "    }\n",
       "</style>\n",
       "<table border=\"1\" class=\"dataframe\">\n",
       "  <thead>\n",
       "    <tr style=\"text-align: right;\">\n",
       "      <th></th>\n",
       "      <th>Project Year</th>\n",
       "      <th>Account Number</th>\n",
       "      <th>Account Name</th>\n",
       "      <th>Question Number</th>\n",
       "      <th>Question Name</th>\n",
       "      <th>Row Number</th>\n",
       "      <th>Column Number</th>\n",
       "      <th>Column Name</th>\n",
       "      <th>Response Answer</th>\n",
       "    </tr>\n",
       "  </thead>\n",
       "  <tbody>\n",
       "    <tr>\n",
       "      <th>0</th>\n",
       "      <td>2015</td>\n",
       "      <td>58</td>\n",
       "      <td>ABM INDUSTRIES INC</td>\n",
       "      <td>CC0.1</td>\n",
       "      <td>Introduction Please give a general descriptio...</td>\n",
       "      <td>1</td>\n",
       "      <td>C0a</td>\n",
       "      <td>NaN</td>\n",
       "      <td>ABM (NYSE: ABM) is a leading provider of facil...</td>\n",
       "    </tr>\n",
       "    <tr>\n",
       "      <th>1</th>\n",
       "      <td>2015</td>\n",
       "      <td>64</td>\n",
       "      <td>Abbott Laboratories</td>\n",
       "      <td>CC0.1</td>\n",
       "      <td>Introduction Please give a general descriptio...</td>\n",
       "      <td>1</td>\n",
       "      <td>C0a</td>\n",
       "      <td>NaN</td>\n",
       "      <td>NaN</td>\n",
       "    </tr>\n",
       "    <tr>\n",
       "      <th>2</th>\n",
       "      <td>2015</td>\n",
       "      <td>119</td>\n",
       "      <td>Resolute Forest Products Inc.</td>\n",
       "      <td>CC0.1</td>\n",
       "      <td>Introduction Please give a general descriptio...</td>\n",
       "      <td>1</td>\n",
       "      <td>C0a</td>\n",
       "      <td>NaN</td>\n",
       "      <td>NaN</td>\n",
       "    </tr>\n",
       "    <tr>\n",
       "      <th>3</th>\n",
       "      <td>2015</td>\n",
       "      <td>234</td>\n",
       "      <td>Advanced Call Center Technologies, LLC</td>\n",
       "      <td>CC0.1</td>\n",
       "      <td>Introduction Please give a general descriptio...</td>\n",
       "      <td>1</td>\n",
       "      <td>C0a</td>\n",
       "      <td>NaN</td>\n",
       "      <td>ACT is domestic (USA) outsourced call center s...</td>\n",
       "    </tr>\n",
       "    <tr>\n",
       "      <th>4</th>\n",
       "      <td>2015</td>\n",
       "      <td>285</td>\n",
       "      <td>3M Company</td>\n",
       "      <td>CC0.1</td>\n",
       "      <td>Introduction Please give a general descriptio...</td>\n",
       "      <td>1</td>\n",
       "      <td>C0a</td>\n",
       "      <td>NaN</td>\n",
       "      <td>NaN</td>\n",
       "    </tr>\n",
       "  </tbody>\n",
       "</table>\n",
       "</div>"
      ],
      "text/plain": [
       "   Project Year  Account Number                            Account Name  \\\n",
       "0          2015              58                      ABM INDUSTRIES INC   \n",
       "1          2015              64                     Abbott Laboratories   \n",
       "2          2015             119           Resolute Forest Products Inc.   \n",
       "3          2015             234  Advanced Call Center Technologies, LLC   \n",
       "4          2015             285                              3M Company   \n",
       "\n",
       "  Question Number                                      Question Name  \\\n",
       "0           CC0.1   Introduction Please give a general descriptio...   \n",
       "1           CC0.1   Introduction Please give a general descriptio...   \n",
       "2           CC0.1   Introduction Please give a general descriptio...   \n",
       "3           CC0.1   Introduction Please give a general descriptio...   \n",
       "4           CC0.1   Introduction Please give a general descriptio...   \n",
       "\n",
       "   Row Number Column Number Column Name  \\\n",
       "0           1           C0a         NaN   \n",
       "1           1           C0a         NaN   \n",
       "2           1           C0a         NaN   \n",
       "3           1           C0a         NaN   \n",
       "4           1           C0a         NaN   \n",
       "\n",
       "                                     Response Answer  \n",
       "0  ABM (NYSE: ABM) is a leading provider of facil...  \n",
       "1                                                NaN  \n",
       "2                                                NaN  \n",
       "3  ACT is domestic (USA) outsourced call center s...  \n",
       "4                                                NaN  "
      ]
     },
     "execution_count": 29,
     "metadata": {},
     "output_type": "execute_result"
    }
   ],
   "source": [
    "df = df.drop(['Row Name'], axis=1)\n",
    "\n",
    "#del df['Row Name']\n",
    "#df = df.drop('Row Name', axis=1)\n",
    "df.head(5)\n"
   ]
  },
  {
   "cell_type": "markdown",
   "metadata": {},
   "source": [
    "**Rename the column names Account name, Account Number**"
   ]
  },
  {
   "cell_type": "code",
   "execution_count": 30,
   "metadata": {},
   "outputs": [
    {
     "data": {
      "text/html": [
       "<div>\n",
       "<style scoped>\n",
       "    .dataframe tbody tr th:only-of-type {\n",
       "        vertical-align: middle;\n",
       "    }\n",
       "\n",
       "    .dataframe tbody tr th {\n",
       "        vertical-align: top;\n",
       "    }\n",
       "\n",
       "    .dataframe thead th {\n",
       "        text-align: right;\n",
       "    }\n",
       "</style>\n",
       "<table border=\"1\" class=\"dataframe\">\n",
       "  <thead>\n",
       "    <tr style=\"text-align: right;\">\n",
       "      <th></th>\n",
       "      <th>Project Year</th>\n",
       "      <th>Company_unique_key</th>\n",
       "      <th>Company</th>\n",
       "      <th>Question Number</th>\n",
       "      <th>Question Name</th>\n",
       "      <th>Row Number</th>\n",
       "      <th>Column Number</th>\n",
       "      <th>Column Name</th>\n",
       "      <th>Response Answer</th>\n",
       "    </tr>\n",
       "  </thead>\n",
       "  <tbody>\n",
       "    <tr>\n",
       "      <th>0</th>\n",
       "      <td>2015</td>\n",
       "      <td>58</td>\n",
       "      <td>ABM INDUSTRIES INC</td>\n",
       "      <td>CC0.1</td>\n",
       "      <td>Introduction Please give a general descriptio...</td>\n",
       "      <td>1</td>\n",
       "      <td>C0a</td>\n",
       "      <td>NaN</td>\n",
       "      <td>ABM (NYSE: ABM) is a leading provider of facil...</td>\n",
       "    </tr>\n",
       "    <tr>\n",
       "      <th>1</th>\n",
       "      <td>2015</td>\n",
       "      <td>64</td>\n",
       "      <td>Abbott Laboratories</td>\n",
       "      <td>CC0.1</td>\n",
       "      <td>Introduction Please give a general descriptio...</td>\n",
       "      <td>1</td>\n",
       "      <td>C0a</td>\n",
       "      <td>NaN</td>\n",
       "      <td>NaN</td>\n",
       "    </tr>\n",
       "    <tr>\n",
       "      <th>2</th>\n",
       "      <td>2015</td>\n",
       "      <td>119</td>\n",
       "      <td>Resolute Forest Products Inc.</td>\n",
       "      <td>CC0.1</td>\n",
       "      <td>Introduction Please give a general descriptio...</td>\n",
       "      <td>1</td>\n",
       "      <td>C0a</td>\n",
       "      <td>NaN</td>\n",
       "      <td>NaN</td>\n",
       "    </tr>\n",
       "    <tr>\n",
       "      <th>3</th>\n",
       "      <td>2015</td>\n",
       "      <td>234</td>\n",
       "      <td>Advanced Call Center Technologies, LLC</td>\n",
       "      <td>CC0.1</td>\n",
       "      <td>Introduction Please give a general descriptio...</td>\n",
       "      <td>1</td>\n",
       "      <td>C0a</td>\n",
       "      <td>NaN</td>\n",
       "      <td>ACT is domestic (USA) outsourced call center s...</td>\n",
       "    </tr>\n",
       "    <tr>\n",
       "      <th>4</th>\n",
       "      <td>2015</td>\n",
       "      <td>285</td>\n",
       "      <td>3M Company</td>\n",
       "      <td>CC0.1</td>\n",
       "      <td>Introduction Please give a general descriptio...</td>\n",
       "      <td>1</td>\n",
       "      <td>C0a</td>\n",
       "      <td>NaN</td>\n",
       "      <td>NaN</td>\n",
       "    </tr>\n",
       "  </tbody>\n",
       "</table>\n",
       "</div>"
      ],
      "text/plain": [
       "   Project Year  Company_unique_key                                 Company  \\\n",
       "0          2015                  58                      ABM INDUSTRIES INC   \n",
       "1          2015                  64                     Abbott Laboratories   \n",
       "2          2015                 119           Resolute Forest Products Inc.   \n",
       "3          2015                 234  Advanced Call Center Technologies, LLC   \n",
       "4          2015                 285                              3M Company   \n",
       "\n",
       "  Question Number                                      Question Name  \\\n",
       "0           CC0.1   Introduction Please give a general descriptio...   \n",
       "1           CC0.1   Introduction Please give a general descriptio...   \n",
       "2           CC0.1   Introduction Please give a general descriptio...   \n",
       "3           CC0.1   Introduction Please give a general descriptio...   \n",
       "4           CC0.1   Introduction Please give a general descriptio...   \n",
       "\n",
       "   Row Number Column Number Column Name  \\\n",
       "0           1           C0a         NaN   \n",
       "1           1           C0a         NaN   \n",
       "2           1           C0a         NaN   \n",
       "3           1           C0a         NaN   \n",
       "4           1           C0a         NaN   \n",
       "\n",
       "                                     Response Answer  \n",
       "0  ABM (NYSE: ABM) is a leading provider of facil...  \n",
       "1                                                NaN  \n",
       "2                                                NaN  \n",
       "3  ACT is domestic (USA) outsourced call center s...  \n",
       "4                                                NaN  "
      ]
     },
     "execution_count": 30,
     "metadata": {},
     "output_type": "execute_result"
    }
   ],
   "source": [
    "df = df.rename(columns={\"Account Name\": \"Company\", \"Account Number\": \"Company_unique_key\" })\n",
    "df.head(5)"
   ]
  },
  {
   "cell_type": "code",
   "execution_count": 59,
   "metadata": {},
   "outputs": [
    {
     "data": {
      "text/plain": [
       "(716739, 9)"
      ]
     },
     "execution_count": 59,
     "metadata": {},
     "output_type": "execute_result"
    }
   ],
   "source": [
    "df.shape"
   ]
  },
  {
   "cell_type": "markdown",
   "metadata": {},
   "source": [
    "**Remove duplicate rows**"
   ]
  },
  {
   "cell_type": "code",
   "execution_count": 31,
   "metadata": {},
   "outputs": [
    {
     "name": "stdout",
     "output_type": "stream",
     "text": [
      "number of duplicate rows:  (7620, 9)\n"
     ]
    }
   ],
   "source": [
    "duplicate_rows_df = df[df.duplicated()]\n",
    "print(\"number of duplicate rows: \", duplicate_rows_df.shape)"
   ]
  },
  {
   "cell_type": "code",
   "execution_count": 32,
   "metadata": {},
   "outputs": [
    {
     "data": {
      "text/plain": [
       "Project Year          716739\n",
       "Company_unique_key    716739\n",
       "Company               716739\n",
       "Question Number       716739\n",
       "Question Name         709365\n",
       "Row Number            716739\n",
       "Column Number         709365\n",
       "Column Name           682533\n",
       "Response Answer       382545\n",
       "dtype: int64"
      ]
     },
     "execution_count": 32,
     "metadata": {},
     "output_type": "execute_result"
    }
   ],
   "source": [
    "df.count()"
   ]
  },
  {
   "cell_type": "code",
   "execution_count": 33,
   "metadata": {},
   "outputs": [
    {
     "data": {
      "text/html": [
       "<div>\n",
       "<style scoped>\n",
       "    .dataframe tbody tr th:only-of-type {\n",
       "        vertical-align: middle;\n",
       "    }\n",
       "\n",
       "    .dataframe tbody tr th {\n",
       "        vertical-align: top;\n",
       "    }\n",
       "\n",
       "    .dataframe thead th {\n",
       "        text-align: right;\n",
       "    }\n",
       "</style>\n",
       "<table border=\"1\" class=\"dataframe\">\n",
       "  <thead>\n",
       "    <tr style=\"text-align: right;\">\n",
       "      <th></th>\n",
       "      <th>Project Year</th>\n",
       "      <th>Company_unique_key</th>\n",
       "      <th>Company</th>\n",
       "      <th>Question Number</th>\n",
       "      <th>Question Name</th>\n",
       "      <th>Row Number</th>\n",
       "      <th>Column Number</th>\n",
       "      <th>Column Name</th>\n",
       "      <th>Response Answer</th>\n",
       "    </tr>\n",
       "  </thead>\n",
       "  <tbody>\n",
       "    <tr>\n",
       "      <th>0</th>\n",
       "      <td>2015</td>\n",
       "      <td>58</td>\n",
       "      <td>ABM INDUSTRIES INC</td>\n",
       "      <td>CC0.1</td>\n",
       "      <td>Introduction Please give a general descriptio...</td>\n",
       "      <td>1</td>\n",
       "      <td>C0a</td>\n",
       "      <td>NaN</td>\n",
       "      <td>ABM (NYSE: ABM) is a leading provider of facil...</td>\n",
       "    </tr>\n",
       "    <tr>\n",
       "      <th>1</th>\n",
       "      <td>2015</td>\n",
       "      <td>64</td>\n",
       "      <td>Abbott Laboratories</td>\n",
       "      <td>CC0.1</td>\n",
       "      <td>Introduction Please give a general descriptio...</td>\n",
       "      <td>1</td>\n",
       "      <td>C0a</td>\n",
       "      <td>NaN</td>\n",
       "      <td>NaN</td>\n",
       "    </tr>\n",
       "    <tr>\n",
       "      <th>2</th>\n",
       "      <td>2015</td>\n",
       "      <td>119</td>\n",
       "      <td>Resolute Forest Products Inc.</td>\n",
       "      <td>CC0.1</td>\n",
       "      <td>Introduction Please give a general descriptio...</td>\n",
       "      <td>1</td>\n",
       "      <td>C0a</td>\n",
       "      <td>NaN</td>\n",
       "      <td>NaN</td>\n",
       "    </tr>\n",
       "    <tr>\n",
       "      <th>3</th>\n",
       "      <td>2015</td>\n",
       "      <td>234</td>\n",
       "      <td>Advanced Call Center Technologies, LLC</td>\n",
       "      <td>CC0.1</td>\n",
       "      <td>Introduction Please give a general descriptio...</td>\n",
       "      <td>1</td>\n",
       "      <td>C0a</td>\n",
       "      <td>NaN</td>\n",
       "      <td>ACT is domestic (USA) outsourced call center s...</td>\n",
       "    </tr>\n",
       "    <tr>\n",
       "      <th>4</th>\n",
       "      <td>2015</td>\n",
       "      <td>285</td>\n",
       "      <td>3M Company</td>\n",
       "      <td>CC0.1</td>\n",
       "      <td>Introduction Please give a general descriptio...</td>\n",
       "      <td>1</td>\n",
       "      <td>C0a</td>\n",
       "      <td>NaN</td>\n",
       "      <td>NaN</td>\n",
       "    </tr>\n",
       "  </tbody>\n",
       "</table>\n",
       "</div>"
      ],
      "text/plain": [
       "   Project Year  Company_unique_key                                 Company  \\\n",
       "0          2015                  58                      ABM INDUSTRIES INC   \n",
       "1          2015                  64                     Abbott Laboratories   \n",
       "2          2015                 119           Resolute Forest Products Inc.   \n",
       "3          2015                 234  Advanced Call Center Technologies, LLC   \n",
       "4          2015                 285                              3M Company   \n",
       "\n",
       "  Question Number                                      Question Name  \\\n",
       "0           CC0.1   Introduction Please give a general descriptio...   \n",
       "1           CC0.1   Introduction Please give a general descriptio...   \n",
       "2           CC0.1   Introduction Please give a general descriptio...   \n",
       "3           CC0.1   Introduction Please give a general descriptio...   \n",
       "4           CC0.1   Introduction Please give a general descriptio...   \n",
       "\n",
       "   Row Number Column Number Column Name  \\\n",
       "0           1           C0a         NaN   \n",
       "1           1           C0a         NaN   \n",
       "2           1           C0a         NaN   \n",
       "3           1           C0a         NaN   \n",
       "4           1           C0a         NaN   \n",
       "\n",
       "                                     Response Answer  \n",
       "0  ABM (NYSE: ABM) is a leading provider of facil...  \n",
       "1                                                NaN  \n",
       "2                                                NaN  \n",
       "3  ACT is domestic (USA) outsourced call center s...  \n",
       "4                                                NaN  "
      ]
     },
     "execution_count": 33,
     "metadata": {},
     "output_type": "execute_result"
    }
   ],
   "source": [
    "df = df.drop_duplicates()\n",
    "df.head(5)"
   ]
  },
  {
   "cell_type": "code",
   "execution_count": 34,
   "metadata": {},
   "outputs": [
    {
     "data": {
      "text/plain": [
       "Project Year          709119\n",
       "Company_unique_key    709119\n",
       "Company               709119\n",
       "Question Number       709119\n",
       "Question Name         701758\n",
       "Row Number            709119\n",
       "Column Number         701758\n",
       "Column Name           674927\n",
       "Response Answer       378741\n",
       "dtype: int64"
      ]
     },
     "execution_count": 34,
     "metadata": {},
     "output_type": "execute_result"
    }
   ],
   "source": [
    "df.count()"
   ]
  },
  {
   "cell_type": "code",
   "execution_count": 35,
   "metadata": {},
   "outputs": [
    {
     "data": {
      "text/plain": [
       "34192"
      ]
     },
     "execution_count": 35,
     "metadata": {},
     "output_type": "execute_result"
    }
   ],
   "source": [
    "df['Column Name'].isnull().sum()"
   ]
  },
  {
   "cell_type": "code",
   "execution_count": 37,
   "metadata": {},
   "outputs": [],
   "source": [
    "df.head()\n",
    "column_data = df[['Column Name','Response Answer']]"
   ]
  },
  {
   "cell_type": "code",
   "execution_count": 39,
   "metadata": {},
   "outputs": [
    {
     "data": {
      "text/html": [
       "<div>\n",
       "<style scoped>\n",
       "    .dataframe tbody tr th:only-of-type {\n",
       "        vertical-align: middle;\n",
       "    }\n",
       "\n",
       "    .dataframe tbody tr th {\n",
       "        vertical-align: top;\n",
       "    }\n",
       "\n",
       "    .dataframe thead th {\n",
       "        text-align: right;\n",
       "    }\n",
       "</style>\n",
       "<table border=\"1\" class=\"dataframe\">\n",
       "  <thead>\n",
       "    <tr style=\"text-align: right;\">\n",
       "      <th></th>\n",
       "      <th>Column Name</th>\n",
       "      <th>Response Answer</th>\n",
       "    </tr>\n",
       "  </thead>\n",
       "  <tbody>\n",
       "    <tr>\n",
       "      <th>0</th>\n",
       "      <td>NaN</td>\n",
       "      <td>ABM (NYSE: ABM) is a leading provider of facil...</td>\n",
       "    </tr>\n",
       "    <tr>\n",
       "      <th>1</th>\n",
       "      <td>NaN</td>\n",
       "      <td>NaN</td>\n",
       "    </tr>\n",
       "    <tr>\n",
       "      <th>2</th>\n",
       "      <td>NaN</td>\n",
       "      <td>NaN</td>\n",
       "    </tr>\n",
       "    <tr>\n",
       "      <th>3</th>\n",
       "      <td>NaN</td>\n",
       "      <td>ACT is domestic (USA) outsourced call center s...</td>\n",
       "    </tr>\n",
       "    <tr>\n",
       "      <th>4</th>\n",
       "      <td>NaN</td>\n",
       "      <td>NaN</td>\n",
       "    </tr>\n",
       "  </tbody>\n",
       "</table>\n",
       "</div>"
      ],
      "text/plain": [
       "  Column Name                                    Response Answer\n",
       "0         NaN  ABM (NYSE: ABM) is a leading provider of facil...\n",
       "1         NaN                                                NaN\n",
       "2         NaN                                                NaN\n",
       "3         NaN  ACT is domestic (USA) outsourced call center s...\n",
       "4         NaN                                                NaN"
      ]
     },
     "execution_count": 39,
     "metadata": {},
     "output_type": "execute_result"
    }
   ],
   "source": [
    "#print(column_data)\n",
    "column_data.head(5)\n"
   ]
  },
  {
   "cell_type": "markdown",
   "metadata": {},
   "source": [
    "Get a subset dataset to visualize and explore on gross global co2 emissions for scope1 each company"
   ]
  },
  {
   "cell_type": "code",
   "execution_count": 161,
   "metadata": {},
   "outputs": [
    {
     "data": {
      "text/plain": [
       "Project Year       0\n",
       "Company            0\n",
       "Question Number    0\n",
       "Question Name      0\n",
       "Response Answer    0\n",
       "dtype: int64"
      ]
     },
     "execution_count": 161,
     "metadata": {},
     "output_type": "execute_result"
    }
   ],
   "source": [
    "df_scope1_emissions = df[['Project Year', 'Company', 'Question Number', 'Question Name', 'Response Answer']] \n",
    "\n",
    "df_scope1_emissions = df_scope1_emissions[df_scope1_emissions['Question Number'] == \"CC8.2\"] \n",
    "df_scope1_emissions = df_scope1_emissions.dropna()\n",
    "df_scope1_emissions.head()\n",
    "\n",
    "df_scope1_emissions.isnull().sum()"
   ]
  },
  {
   "cell_type": "code",
   "execution_count": 162,
   "metadata": {},
   "outputs": [
    {
     "name": "stdout",
     "output_type": "stream",
     "text": [
      "float64\n"
     ]
    }
   ],
   "source": [
    "df_scope1_emissions['Response Answer'] = pd.to_numeric(df_scope1_emissions['Response Answer'])\n",
    "print(df_scope1_emissions['Response Answer'].dtype)"
   ]
  },
  {
   "cell_type": "code",
   "execution_count": 207,
   "metadata": {},
   "outputs": [
    {
     "data": {
      "image/png": "[encoded data removed]",
      "text/plain": [
       "<Figure size 432x288 with 1 Axes>"
      ]
     },
     "metadata": {},
     "output_type": "display_data"
    }
   ],
   "source": [
    "#plt.figure(figsize=(10,8))\n",
    "plt.xlabel('Company')\n",
    "plt.ylabel('Response Answer')\n",
    "plt.scatter(df_scope1_emissions['Company'], df_scope1_emissions['Response Answer'], c = \"Blue\")\n",
    "plt.show()\n"
   ]
  },
  {
   "cell_type": "code",
   "execution_count": null,
   "metadata": {},
   "outputs": [],
   "source": []
  },
  {
   "cell_type": "code",
   "execution_count": null,
   "metadata": {},
   "outputs": [],
   "source": [
    "From the above plot, we can conclude that the highest co2 emissions are from 12 billion metric tons from the company VXI GLOBAL SOLUTIONS INC\n",
    " Highest emissions -->\n",
    "1) Exxon Mobil Corporation\n",
    "2) American Electric Power Company, Inc.\n",
    "3) Duke Energy Corporation\n",
    "4) The AES Corporation\n",
    "5) NRG Energy Inc"
   ]
  },
  {
   "cell_type": "code",
   "execution_count": 179,
   "metadata": {
    "scrolled": true
   },
   "outputs": [
    {
     "data": {
      "text/html": [
       "<div>\n",
       "<style scoped>\n",
       "    .dataframe tbody tr th:only-of-type {\n",
       "        vertical-align: middle;\n",
       "    }\n",
       "\n",
       "    .dataframe tbody tr th {\n",
       "        vertical-align: top;\n",
       "    }\n",
       "\n",
       "    .dataframe thead th {\n",
       "        text-align: right;\n",
       "    }\n",
       "</style>\n",
       "<table border=\"1\" class=\"dataframe\">\n",
       "  <thead>\n",
       "    <tr style=\"text-align: right;\">\n",
       "      <th></th>\n",
       "      <th>Project Year</th>\n",
       "      <th>Company</th>\n",
       "      <th>Question Number</th>\n",
       "      <th>Question Name</th>\n",
       "      <th>Response Answer</th>\n",
       "    </tr>\n",
       "  </thead>\n",
       "  <tbody>\n",
       "    <tr>\n",
       "      <th>80583</th>\n",
       "      <td>2015</td>\n",
       "      <td>The AES Corporation</td>\n",
       "      <td>CC8.2</td>\n",
       "      <td>Please provide your gross global Scope 1 emis...</td>\n",
       "      <td>74972889.6</td>\n",
       "    </tr>\n",
       "    <tr>\n",
       "      <th>80607</th>\n",
       "      <td>2015</td>\n",
       "      <td>American Electric Power Company, Inc.</td>\n",
       "      <td>CC8.2</td>\n",
       "      <td>Please provide your gross global Scope 1 emis...</td>\n",
       "      <td>130318824.0</td>\n",
       "    </tr>\n",
       "    <tr>\n",
       "      <th>80752</th>\n",
       "      <td>2015</td>\n",
       "      <td>Duke Energy Corporation</td>\n",
       "      <td>CC8.2</td>\n",
       "      <td>Please provide your gross global Scope 1 emis...</td>\n",
       "      <td>126000000.0</td>\n",
       "    </tr>\n",
       "    <tr>\n",
       "      <th>80774</th>\n",
       "      <td>2015</td>\n",
       "      <td>Exxon Mobil Corporation</td>\n",
       "      <td>CC8.2</td>\n",
       "      <td>Please provide your gross global Scope 1 emis...</td>\n",
       "      <td>121000000.0</td>\n",
       "    </tr>\n",
       "    <tr>\n",
       "      <th>80938</th>\n",
       "      <td>2015</td>\n",
       "      <td>NRG Energy Inc</td>\n",
       "      <td>CC8.2</td>\n",
       "      <td>Please provide your gross global Scope 1 emis...</td>\n",
       "      <td>106472000.0</td>\n",
       "    </tr>\n",
       "    <tr>\n",
       "      <th>312592</th>\n",
       "      <td>2016</td>\n",
       "      <td>The AES Corporation</td>\n",
       "      <td>CC8.2</td>\n",
       "      <td>Please provide your gross global Scope 1 emis...</td>\n",
       "      <td>68634068.0</td>\n",
       "    </tr>\n",
       "    <tr>\n",
       "      <th>312612</th>\n",
       "      <td>2016</td>\n",
       "      <td>American Electric Power Company, Inc.</td>\n",
       "      <td>CC8.2</td>\n",
       "      <td>Please provide your gross global Scope 1 emis...</td>\n",
       "      <td>108610665.0</td>\n",
       "    </tr>\n",
       "    <tr>\n",
       "      <th>312751</th>\n",
       "      <td>2016</td>\n",
       "      <td>Duke Energy Corporation</td>\n",
       "      <td>CC8.2</td>\n",
       "      <td>Please provide your gross global Scope 1 emis...</td>\n",
       "      <td>100238000.0</td>\n",
       "    </tr>\n",
       "    <tr>\n",
       "      <th>312768</th>\n",
       "      <td>2016</td>\n",
       "      <td>Exxon Mobil Corporation</td>\n",
       "      <td>CC8.2</td>\n",
       "      <td>Please provide your gross global Scope 1 emis...</td>\n",
       "      <td>118000000.0</td>\n",
       "    </tr>\n",
       "    <tr>\n",
       "      <th>312941</th>\n",
       "      <td>2016</td>\n",
       "      <td>NRG Energy Inc</td>\n",
       "      <td>CC8.2</td>\n",
       "      <td>Please provide your gross global Scope 1 emis...</td>\n",
       "      <td>89214053.0</td>\n",
       "    </tr>\n",
       "    <tr>\n",
       "      <th>553745</th>\n",
       "      <td>2017</td>\n",
       "      <td>The AES Corporation</td>\n",
       "      <td>CC8.2</td>\n",
       "      <td>Please provide your gross global Scope 1 emis...</td>\n",
       "      <td>70272585.0</td>\n",
       "    </tr>\n",
       "    <tr>\n",
       "      <th>553765</th>\n",
       "      <td>2017</td>\n",
       "      <td>American Electric Power Company, Inc.</td>\n",
       "      <td>CC8.2</td>\n",
       "      <td>Please provide your gross global Scope 1 emis...</td>\n",
       "      <td>99166569.0</td>\n",
       "    </tr>\n",
       "    <tr>\n",
       "      <th>553893</th>\n",
       "      <td>2017</td>\n",
       "      <td>Duke Energy Corporation</td>\n",
       "      <td>CC8.2</td>\n",
       "      <td>Please provide your gross global Scope 1 emis...</td>\n",
       "      <td>96837200.0</td>\n",
       "    </tr>\n",
       "    <tr>\n",
       "      <th>553910</th>\n",
       "      <td>2017</td>\n",
       "      <td>Exxon Mobil Corporation</td>\n",
       "      <td>CC8.2</td>\n",
       "      <td>Please provide your gross global Scope 1 emis...</td>\n",
       "      <td>120000000.0</td>\n",
       "    </tr>\n",
       "    <tr>\n",
       "      <th>554066</th>\n",
       "      <td>2017</td>\n",
       "      <td>NRG Energy Inc</td>\n",
       "      <td>CC8.2</td>\n",
       "      <td>Please provide your gross global Scope 1 emis...</td>\n",
       "      <td>68624168.0</td>\n",
       "    </tr>\n",
       "  </tbody>\n",
       "</table>\n",
       "</div>"
      ],
      "text/plain": [
       "        Project Year                                Company Question Number  \\\n",
       "80583           2015                    The AES Corporation           CC8.2   \n",
       "80607           2015  American Electric Power Company, Inc.           CC8.2   \n",
       "80752           2015                Duke Energy Corporation           CC8.2   \n",
       "80774           2015                Exxon Mobil Corporation           CC8.2   \n",
       "80938           2015                         NRG Energy Inc           CC8.2   \n",
       "312592          2016                    The AES Corporation           CC8.2   \n",
       "312612          2016  American Electric Power Company, Inc.           CC8.2   \n",
       "312751          2016                Duke Energy Corporation           CC8.2   \n",
       "312768          2016                Exxon Mobil Corporation           CC8.2   \n",
       "312941          2016                         NRG Energy Inc           CC8.2   \n",
       "553745          2017                    The AES Corporation           CC8.2   \n",
       "553765          2017  American Electric Power Company, Inc.           CC8.2   \n",
       "553893          2017                Duke Energy Corporation           CC8.2   \n",
       "553910          2017                Exxon Mobil Corporation           CC8.2   \n",
       "554066          2017                         NRG Energy Inc           CC8.2   \n",
       "\n",
       "                                            Question Name  Response Answer  \n",
       "80583    Please provide your gross global Scope 1 emis...       74972889.6  \n",
       "80607    Please provide your gross global Scope 1 emis...      130318824.0  \n",
       "80752    Please provide your gross global Scope 1 emis...      126000000.0  \n",
       "80774    Please provide your gross global Scope 1 emis...      121000000.0  \n",
       "80938    Please provide your gross global Scope 1 emis...      106472000.0  \n",
       "312592   Please provide your gross global Scope 1 emis...       68634068.0  \n",
       "312612   Please provide your gross global Scope 1 emis...      108610665.0  \n",
       "312751   Please provide your gross global Scope 1 emis...      100238000.0  \n",
       "312768   Please provide your gross global Scope 1 emis...      118000000.0  \n",
       "312941   Please provide your gross global Scope 1 emis...       89214053.0  \n",
       "553745   Please provide your gross global Scope 1 emis...       70272585.0  \n",
       "553765   Please provide your gross global Scope 1 emis...       99166569.0  \n",
       "553893   Please provide your gross global Scope 1 emis...       96837200.0  \n",
       "553910   Please provide your gross global Scope 1 emis...      120000000.0  \n",
       "554066   Please provide your gross global Scope 1 emis...       68624168.0  "
      ]
     },
     "execution_count": 179,
     "metadata": {},
     "output_type": "execute_result"
    }
   ],
   "source": [
    "df_scope1_emissions_company = df_scope1_emissions[df_scope1_emissions['Company'].isin([\"Exxon Mobil Corporation\", \"American Electric Power Company, Inc.\", \"Duke Energy Corporation\", \"The AES Corporation\", \"NRG Energy Inc\"])]\n",
    "\n",
    "df_scope1_emissions_company"
   ]
  },
  {
   "cell_type": "code",
   "execution_count": 183,
   "metadata": {},
   "outputs": [
    {
     "data": {
      "image/png": "[encoded data removed]",
      "text/plain": [
       "<Figure size 432x288 with 1 Axes>"
      ]
     },
     "metadata": {},
     "output_type": "display_data"
    }
   ],
   "source": [
    "import seaborn as sns\n",
    "sns.set(style=\"darkgrid\")\n",
    "year_based_emissions = sns.pointplot(x=\"Company\", y=\"Response Answer\", hue=\"Project Year\", data=df_scope1_emissions_company)\n"
   ]
  },
  {
   "cell_type": "code",
   "execution_count": null,
   "metadata": {},
   "outputs": [],
   "source": [
    "From the above graph we can conclude that the scope1 emissions are considerably less in 2017.\n",
    "Let us check for company based co2 emissions"
   ]
  },
  {
   "cell_type": "code",
   "execution_count": 185,
   "metadata": {},
   "outputs": [
    {
     "data": {
      "image/png": "[encoded data removed]",
      "text/plain": [
       "<Figure size 432x288 with 1 Axes>"
      ]
     },
     "metadata": {},
     "output_type": "display_data"
    }
   ],
   "source": [
    "company_based_emissions = sns.pointplot(x=\"Project Year\", y=\"Response Answer\", hue=\"Company\", data=df_scope1_emissions_company)"
   ]
  },
  {
   "cell_type": "code",
   "execution_count": null,
   "metadata": {},
   "outputs": [],
   "source": [
    "From the above two graphs we can conclude that the co2 global emissions for each company is reducing, which is a good sign. Let us now analyze more on the steps that each company took to reduce the global co2 emissions."
   ]
  },
  {
   "cell_type": "markdown",
   "metadata": {},
   "source": [
    "Get a subset dataset to visualize and explore on gross global co2 emissions for scope2 each company"
   ]
  },
  {
   "cell_type": "code",
   "execution_count": 188,
   "metadata": {},
   "outputs": [
    {
     "data": {
      "text/plain": [
       "Project Year       0\n",
       "Company            0\n",
       "Question Number    0\n",
       "Question Name      0\n",
       "Response Answer    0\n",
       "dtype: int64"
      ]
     },
     "execution_count": 188,
     "metadata": {},
     "output_type": "execute_result"
    }
   ],
   "source": [
    "df_scope2_emissions = df[['Project Year', 'Company', 'Question Number', 'Question Name', 'Response Answer']] \n",
    "\n",
    "df_scope2_emissions = df_scope2_emissions[df_scope2_emissions['Question Number'] == \"CC8.3\"] \n",
    "df_scope2_emissions = df_scope2_emissions.dropna()\n",
    "df_scope2_emissions.head()\n",
    "\n",
    "df_scope2_emissions.isnull().sum()\n"
   ]
  },
  {
   "cell_type": "code",
   "execution_count": null,
   "metadata": {},
   "outputs": [],
   "source": []
  },
  {
   "cell_type": "code",
   "execution_count": 159,
   "metadata": {},
   "outputs": [],
   "source": [
    "#df_scope2_emissions.count()\n",
    "#df_scope2_emissions\n",
    "#import re\n",
    "#df_scope2_emissions['Response Answer'].str.replace('NaN','')\n",
    "#df_scope2_emissions['Response Answer'].str.replace('nan','')\n",
    "#re.sub(r'^(abc).*?(=[A-Z0-9]+)', '', str)\n",
    "#re.sub(r\"[^0-9]+\", \"\", value)\n",
    "#pattern = re.compile(\"[A-Za-z0-9]+\")\n",
    "#for i in df_scope2_emissions['Response Answer'].index: \n",
    "  #  print(df_scope2_emissions['Response Answer'][i])\n",
    "    #re.sub(r\"[^0-9]+\", \"\",df_scope2_emissions['Response Answer'][i])\n",
    "                                                           \n",
    "    #print(df_scope2_emissions['Response Answer'][i])       \n",
    "#df_scope2_emissions['Response Answer'].str.replace('nan','')\n",
    "#df_scope2_emissions['Response Answer']._get_numeric_data()\n",
    "#df_scope2_emissions[df_scope2_emissions['Response Answer] == \"\"]\n",
    "#df_scope2_emissions['Response Answer'].head()\n",
    "        \n",
    "            \n",
    "            \n",
    "            \n",
    "    \n",
    "    #re.search('[a-zA-Z]',df_scope2_emissions['Response Answer'][i])\n",
    "    #re.sub(\"[A-Za-z0-9]\", '', df_scope2_emissions['Response Answer'][i])\n",
    "#pattern = re.compile(\"[A-Za-z0-9]+\")\n",
    "\n",
    "#if(df_scope2_emissions['Response Answer'] contains pattern):\n",
    "    \n",
    "#re.sub(\"[A-Za-z0-9]\", '', df_scope2_emissions['Response Answer'])\n",
    "\n",
    "#df_scope2_emissions['Response Answer'].str.replace('*a*','')\n",
    "#df_scope2_emissions['Response Answer'].str.replace('NaN','')"
   ]
  },
  {
   "cell_type": "code",
   "execution_count": 154,
   "metadata": {},
   "outputs": [
    {
     "data": {
      "text/plain": [
       "0"
      ]
     },
     "execution_count": 154,
     "metadata": {},
     "output_type": "execute_result"
    }
   ],
   "source": [
    "df_scope2_emissions['Response Answer'].isnull().sum()"
   ]
  },
  {
   "cell_type": "code",
   "execution_count": 189,
   "metadata": {},
   "outputs": [
    {
     "name": "stdout",
     "output_type": "stream",
     "text": [
      "float64\n"
     ]
    }
   ],
   "source": [
    "df_scope2_emissions['Response Answer'] = pd.to_numeric(df_scope2_emissions['Response Answer'])\n",
    "print(df_scope2_emissions['Response Answer'].dtype)"
   ]
  },
  {
   "cell_type": "code",
   "execution_count": null,
   "metadata": {},
   "outputs": [],
   "source": []
  },
  {
   "cell_type": "code",
   "execution_count": 158,
   "metadata": {},
   "outputs": [
    {
     "data": {
      "image/png": "[encoded data removed]",
      "text/plain": [
       "<Figure size 720x576 with 1 Axes>"
      ]
     },
     "metadata": {
      "needs_background": "light"
     },
     "output_type": "display_data"
    }
   ],
   "source": [
    "plt.figure(figsize=(10,8))\n",
    "plt.xlabel('Company')\n",
    "plt.ylabel('Response Answer')\n",
    "plt.plot(df_scope2_emissions['Response Answer'],color='#1C7C54', linewidth=1.0 )\n",
    "plt.show()"
   ]
  },
  {
   "attachments": {},
   "cell_type": "markdown",
   "metadata": {},
   "source": [
    "From the above plot, we can conclude that the highest co2 emissions are from 34 million metric tons from the company VXI GLOBAL SOLUTIONS INC\n",
    " Highest emissions -->\n",
    "1) VXI GLOBAL SOLUTIONS INC\n",
    "2) Wal-Mart Stores, Inc.\n",
    "3) Allete Inc.\n",
    "4) Alcoa Corp.\n",
    "5) Praxair, Inc."
   ]
  },
  {
   "cell_type": "code",
   "execution_count": 197,
   "metadata": {},
   "outputs": [],
   "source": [
    "df_scope2_emissions_company = df_scope2_emissions[df_scope2_emissions['Company'].isin([\"VXI GLOBAL SOLUTIONS INC\", \"Wal-Mart Stores, Inc.\", \"Allete Inc.\", \"Alcoa Corp.\", \"Praxair, Inc.\"])]\n"
   ]
  },
  {
   "cell_type": "code",
   "execution_count": 198,
   "metadata": {},
   "outputs": [
    {
     "data": {
      "image/png": "[encoded data removed]",
      "text/plain": [
       "<Figure size 432x288 with 1 Axes>"
      ]
     },
     "metadata": {},
     "output_type": "display_data"
    }
   ],
   "source": [
    "\n",
    "year_based_emissions = sns.pointplot(x=\"Company\", y=\"Response Answer\", hue=\"Project Year\", data=df_scope2_emissions_company)\n"
   ]
  },
  {
   "cell_type": "code",
   "execution_count": null,
   "metadata": {},
   "outputs": [],
   "source": [
    "Let us check if the emission data for 2016 and 2017 exists"
   ]
  },
  {
   "cell_type": "code",
   "execution_count": 194,
   "metadata": {},
   "outputs": [
    {
     "data": {
      "text/html": [
       "<div>\n",
       "<style scoped>\n",
       "    .dataframe tbody tr th:only-of-type {\n",
       "        vertical-align: middle;\n",
       "    }\n",
       "\n",
       "    .dataframe tbody tr th {\n",
       "        vertical-align: top;\n",
       "    }\n",
       "\n",
       "    .dataframe thead th {\n",
       "        text-align: right;\n",
       "    }\n",
       "</style>\n",
       "<table border=\"1\" class=\"dataframe\">\n",
       "  <thead>\n",
       "    <tr style=\"text-align: right;\">\n",
       "      <th></th>\n",
       "      <th>Project Year</th>\n",
       "      <th>Company</th>\n",
       "      <th>Question Number</th>\n",
       "      <th>Question Name</th>\n",
       "      <th>Response Answer</th>\n",
       "    </tr>\n",
       "  </thead>\n",
       "  <tbody>\n",
       "  </tbody>\n",
       "</table>\n",
       "</div>"
      ],
      "text/plain": [
       "Empty DataFrame\n",
       "Columns: [Project Year, Company, Question Number, Question Name, Response Answer]\n",
       "Index: []"
      ]
     },
     "execution_count": 194,
     "metadata": {},
     "output_type": "execute_result"
    }
   ],
   "source": [
    "df_scope2_emissions_year = df_scope2_emissions[df_scope2_emissions['Project Year'].isin([\"2016\", \"2017\"])]\n",
    "df_scope2_emissions_year"
   ]
  },
  {
   "cell_type": "markdown",
   "metadata": {},
   "source": [
    "Let us check for emission data based on companies"
   ]
  },
  {
   "cell_type": "code",
   "execution_count": 209,
   "metadata": {},
   "outputs": [
    {
     "data": {
      "image/png": "[encoded data removed]",
      "text/plain": [
       "<Figure size 432x288 with 1 Axes>"
      ]
     },
     "metadata": {},
     "output_type": "display_data"
    }
   ],
   "source": [
    "company_based_emissions = df_scope2_emissions_company.plot.bar(x=\"Company\", y=\"Response Answer\")"
   ]
  },
  {
   "cell_type": "code",
   "execution_count": 247,
   "metadata": {},
   "outputs": [
    {
     "data": {
      "text/html": [
       "<div>\n",
       "<style scoped>\n",
       "    .dataframe tbody tr th:only-of-type {\n",
       "        vertical-align: middle;\n",
       "    }\n",
       "\n",
       "    .dataframe tbody tr th {\n",
       "        vertical-align: top;\n",
       "    }\n",
       "\n",
       "    .dataframe thead th {\n",
       "        text-align: right;\n",
       "    }\n",
       "</style>\n",
       "<table border=\"1\" class=\"dataframe\">\n",
       "  <thead>\n",
       "    <tr style=\"text-align: right;\">\n",
       "      <th></th>\n",
       "      <th>Project Year</th>\n",
       "      <th>Company</th>\n",
       "      <th>Question Number</th>\n",
       "      <th>Question Name</th>\n",
       "      <th>Response Answer</th>\n",
       "    </tr>\n",
       "  </thead>\n",
       "  <tbody>\n",
       "    <tr>\n",
       "      <th>28771</th>\n",
       "      <td>2015</td>\n",
       "      <td>ABM INDUSTRIES INC</td>\n",
       "      <td>CC3.1</td>\n",
       "      <td>Did you have an emissions reduction target th...</td>\n",
       "      <td>Intensity target</td>\n",
       "    </tr>\n",
       "    <tr>\n",
       "      <th>28772</th>\n",
       "      <td>2015</td>\n",
       "      <td>Abbott Laboratories</td>\n",
       "      <td>CC3.1</td>\n",
       "      <td>Did you have an emissions reduction target th...</td>\n",
       "      <td>Absolute and intensity targets</td>\n",
       "    </tr>\n",
       "    <tr>\n",
       "      <th>28773</th>\n",
       "      <td>2015</td>\n",
       "      <td>Resolute Forest Products Inc.</td>\n",
       "      <td>CC3.1</td>\n",
       "      <td>Did you have an emissions reduction target th...</td>\n",
       "      <td>Absolute target</td>\n",
       "    </tr>\n",
       "    <tr>\n",
       "      <th>28774</th>\n",
       "      <td>2015</td>\n",
       "      <td>Advanced Call Center Technologies, LLC</td>\n",
       "      <td>CC3.1</td>\n",
       "      <td>Did you have an emissions reduction target th...</td>\n",
       "      <td>No</td>\n",
       "    </tr>\n",
       "    <tr>\n",
       "      <th>28775</th>\n",
       "      <td>2015</td>\n",
       "      <td>3M Company</td>\n",
       "      <td>CC3.1</td>\n",
       "      <td>Did you have an emissions reduction target th...</td>\n",
       "      <td>Intensity target</td>\n",
       "    </tr>\n",
       "  </tbody>\n",
       "</table>\n",
       "</div>"
      ],
      "text/plain": [
       "       Project Year                                 Company Question Number  \\\n",
       "28771          2015                      ABM INDUSTRIES INC           CC3.1   \n",
       "28772          2015                     Abbott Laboratories           CC3.1   \n",
       "28773          2015           Resolute Forest Products Inc.           CC3.1   \n",
       "28774          2015  Advanced Call Center Technologies, LLC           CC3.1   \n",
       "28775          2015                              3M Company           CC3.1   \n",
       "\n",
       "                                           Question Name  \\\n",
       "28771   Did you have an emissions reduction target th...   \n",
       "28772   Did you have an emissions reduction target th...   \n",
       "28773   Did you have an emissions reduction target th...   \n",
       "28774   Did you have an emissions reduction target th...   \n",
       "28775   Did you have an emissions reduction target th...   \n",
       "\n",
       "                      Response Answer  \n",
       "28771                Intensity target  \n",
       "28772  Absolute and intensity targets  \n",
       "28773                 Absolute target  \n",
       "28774                              No  \n",
       "28775                Intensity target  "
      ]
     },
     "execution_count": 247,
     "metadata": {},
     "output_type": "execute_result"
    }
   ],
   "source": [
    "df_emissions = df[['Project Year', 'Company', 'Question Number', 'Question Name', 'Response Answer']] \n",
    "df_target_emissions = df_emissions[df_emissions['Question Number'] == \"CC3.1\"] \n",
    "\n",
    "df_target_emissions.head()"
   ]
  },
  {
   "cell_type": "code",
   "execution_count": 253,
   "metadata": {},
   "outputs": [],
   "source": [
    "df_target_emissions['Response Answer'].replace({\"Absolute target; Intensity target\":\"Absolute and intensity targets\", \"Absolute target; No\":\"Absolute target\", \"Intensity target; No\":\"Intensity target\", \"Absolute target; Renewable energy consumption and/or production target\":\"Absolute target\", \"Absolute target; Intensity target; Renewable energy consumption and/or production target\":\"Absolute target and Intensity target\",\"Renewable energy consumption and/or production target\":\"\" })\n",
    "\n",
    "df_target_emissions = df_target_emissions[df_target_emissions['Response Answer'].isin([\"Absolute and intensity targets\",\"Absolute target\", \"No\", \"Intensity target\"])]\n"
   ]
  },
  {
   "cell_type": "code",
   "execution_count": 254,
   "metadata": {},
   "outputs": [
    {
     "data": {
      "text/plain": [
       "<matplotlib.axes._subplots.AxesSubplot at 0x1a312dd7b8>"
      ]
     },
     "execution_count": 254,
     "metadata": {},
     "output_type": "execute_result"
    },
    {
     "data": {
      "image/png": "[encoded data removed]",
      "text/plain": [
       "<Figure size 432x288 with 1 Axes>"
      ]
     },
     "metadata": {},
     "output_type": "display_data"
    }
   ],
   "source": [
    "df_target_emissions[\"Response Answer\"].value_counts().plot(kind='bar')\n"
   ]
  },
  {
   "cell_type": "markdown",
   "metadata": {},
   "source": [
    "From the above plot, we may conclude that most companies have not set up any targets intensity or absolute targets to reduce the co2 global emissions.\n"
   ]
  },
  {
   "cell_type": "code",
   "execution_count": 261,
   "metadata": {},
   "outputs": [
    {
     "data": {
      "text/html": [
       "<div>\n",
       "<style scoped>\n",
       "    .dataframe tbody tr th:only-of-type {\n",
       "        vertical-align: middle;\n",
       "    }\n",
       "\n",
       "    .dataframe tbody tr th {\n",
       "        vertical-align: top;\n",
       "    }\n",
       "\n",
       "    .dataframe thead th {\n",
       "        text-align: right;\n",
       "    }\n",
       "</style>\n",
       "<table border=\"1\" class=\"dataframe\">\n",
       "  <thead>\n",
       "    <tr style=\"text-align: right;\">\n",
       "      <th></th>\n",
       "      <th>Project Year</th>\n",
       "      <th>Company</th>\n",
       "      <th>Response Answer</th>\n",
       "    </tr>\n",
       "  </thead>\n",
       "  <tbody>\n",
       "    <tr>\n",
       "      <th>28771</th>\n",
       "      <td>2015</td>\n",
       "      <td>ABM INDUSTRIES INC</td>\n",
       "      <td>Intensity target</td>\n",
       "    </tr>\n",
       "    <tr>\n",
       "      <th>28772</th>\n",
       "      <td>2015</td>\n",
       "      <td>Abbott Laboratories</td>\n",
       "      <td>Absolute and intensity targets</td>\n",
       "    </tr>\n",
       "    <tr>\n",
       "      <th>28773</th>\n",
       "      <td>2015</td>\n",
       "      <td>Resolute Forest Products Inc.</td>\n",
       "      <td>Absolute target</td>\n",
       "    </tr>\n",
       "    <tr>\n",
       "      <th>28774</th>\n",
       "      <td>2015</td>\n",
       "      <td>Advanced Call Center Technologies, LLC</td>\n",
       "      <td>No</td>\n",
       "    </tr>\n",
       "    <tr>\n",
       "      <th>28775</th>\n",
       "      <td>2015</td>\n",
       "      <td>3M Company</td>\n",
       "      <td>Intensity target</td>\n",
       "    </tr>\n",
       "  </tbody>\n",
       "</table>\n",
       "</div>"
      ],
      "text/plain": [
       "       Project Year                                 Company  \\\n",
       "28771          2015                      ABM INDUSTRIES INC   \n",
       "28772          2015                     Abbott Laboratories   \n",
       "28773          2015           Resolute Forest Products Inc.   \n",
       "28774          2015  Advanced Call Center Technologies, LLC   \n",
       "28775          2015                              3M Company   \n",
       "\n",
       "                      Response Answer  \n",
       "28771                Intensity target  \n",
       "28772  Absolute and intensity targets  \n",
       "28773                 Absolute target  \n",
       "28774                              No  \n",
       "28775                Intensity target  "
      ]
     },
     "execution_count": 261,
     "metadata": {},
     "output_type": "execute_result"
    }
   ],
   "source": [
    "df_target_emissions_company = df_target_emissions[['Project Year','Company','Response Answer']]\n",
    "df_target_emissions_company.head()"
   ]
  },
  {
   "cell_type": "code",
   "execution_count": 269,
   "metadata": {},
   "outputs": [
    {
     "data": {
      "text/html": [
       "<div>\n",
       "<style scoped>\n",
       "    .dataframe tbody tr th:only-of-type {\n",
       "        vertical-align: middle;\n",
       "    }\n",
       "\n",
       "    .dataframe tbody tr th {\n",
       "        vertical-align: top;\n",
       "    }\n",
       "\n",
       "    .dataframe thead th {\n",
       "        text-align: right;\n",
       "    }\n",
       "</style>\n",
       "<table border=\"1\" class=\"dataframe\">\n",
       "  <thead>\n",
       "    <tr style=\"text-align: right;\">\n",
       "      <th></th>\n",
       "      <th>Project Year</th>\n",
       "      <th>Company</th>\n",
       "      <th>Response Answer</th>\n",
       "    </tr>\n",
       "  </thead>\n",
       "  <tbody>\n",
       "    <tr>\n",
       "      <th>28777</th>\n",
       "      <td>2015</td>\n",
       "      <td>The AES Corporation</td>\n",
       "      <td>Absolute target</td>\n",
       "    </tr>\n",
       "    <tr>\n",
       "      <th>28789</th>\n",
       "      <td>2015</td>\n",
       "      <td>Alcoa Corp.</td>\n",
       "      <td>Intensity target</td>\n",
       "    </tr>\n",
       "    <tr>\n",
       "      <th>28792</th>\n",
       "      <td>2015</td>\n",
       "      <td>Allete Inc.</td>\n",
       "      <td>Intensity target</td>\n",
       "    </tr>\n",
       "    <tr>\n",
       "      <th>28801</th>\n",
       "      <td>2015</td>\n",
       "      <td>American Electric Power Company, Inc.</td>\n",
       "      <td>Absolute target</td>\n",
       "    </tr>\n",
       "    <tr>\n",
       "      <th>28929</th>\n",
       "      <td>2015</td>\n",
       "      <td>Duke Energy Corporation</td>\n",
       "      <td>Absolute and intensity targets</td>\n",
       "    </tr>\n",
       "    <tr>\n",
       "      <th>28951</th>\n",
       "      <td>2015</td>\n",
       "      <td>Exxon Mobil Corporation</td>\n",
       "      <td>No</td>\n",
       "    </tr>\n",
       "    <tr>\n",
       "      <th>29100</th>\n",
       "      <td>2015</td>\n",
       "      <td>NRG Energy Inc</td>\n",
       "      <td>Absolute target</td>\n",
       "    </tr>\n",
       "    <tr>\n",
       "      <th>29129</th>\n",
       "      <td>2015</td>\n",
       "      <td>Praxair, Inc.</td>\n",
       "      <td>Absolute and intensity targets</td>\n",
       "    </tr>\n",
       "    <tr>\n",
       "      <th>29236</th>\n",
       "      <td>2015</td>\n",
       "      <td>Wal-Mart Stores, Inc.</td>\n",
       "      <td>Absolute and intensity targets</td>\n",
       "    </tr>\n",
       "    <tr>\n",
       "      <th>29828</th>\n",
       "      <td>2015</td>\n",
       "      <td>VXI GLOBAL SOLUTIONS INC</td>\n",
       "      <td>Absolute target</td>\n",
       "    </tr>\n",
       "    <tr>\n",
       "      <th>257551</th>\n",
       "      <td>2016</td>\n",
       "      <td>The AES Corporation</td>\n",
       "      <td>Absolute target</td>\n",
       "    </tr>\n",
       "    <tr>\n",
       "      <th>257561</th>\n",
       "      <td>2016</td>\n",
       "      <td>Alcoa Corp.</td>\n",
       "      <td>Absolute and intensity targets</td>\n",
       "    </tr>\n",
       "    <tr>\n",
       "      <th>257571</th>\n",
       "      <td>2016</td>\n",
       "      <td>American Electric Power Company, Inc.</td>\n",
       "      <td>Absolute target</td>\n",
       "    </tr>\n",
       "    <tr>\n",
       "      <th>257697</th>\n",
       "      <td>2016</td>\n",
       "      <td>Duke Energy Corporation</td>\n",
       "      <td>Absolute and intensity targets</td>\n",
       "    </tr>\n",
       "    <tr>\n",
       "      <th>257714</th>\n",
       "      <td>2016</td>\n",
       "      <td>Exxon Mobil Corporation</td>\n",
       "      <td>No</td>\n",
       "    </tr>\n",
       "    <tr>\n",
       "      <th>257869</th>\n",
       "      <td>2016</td>\n",
       "      <td>NRG Energy Inc</td>\n",
       "      <td>Absolute target</td>\n",
       "    </tr>\n",
       "    <tr>\n",
       "      <th>257901</th>\n",
       "      <td>2016</td>\n",
       "      <td>Praxair, Inc.</td>\n",
       "      <td>Absolute and intensity targets</td>\n",
       "    </tr>\n",
       "    <tr>\n",
       "      <th>258545</th>\n",
       "      <td>2016</td>\n",
       "      <td>VXI GLOBAL SOLUTIONS INC</td>\n",
       "      <td>Absolute target</td>\n",
       "    </tr>\n",
       "    <tr>\n",
       "      <th>498472</th>\n",
       "      <td>2017</td>\n",
       "      <td>The AES Corporation</td>\n",
       "      <td>Absolute target</td>\n",
       "    </tr>\n",
       "    <tr>\n",
       "      <th>498482</th>\n",
       "      <td>2017</td>\n",
       "      <td>Alcoa Corp.</td>\n",
       "      <td>Intensity target</td>\n",
       "    </tr>\n",
       "    <tr>\n",
       "      <th>498492</th>\n",
       "      <td>2017</td>\n",
       "      <td>American Electric Power Company, Inc.</td>\n",
       "      <td>Absolute target</td>\n",
       "    </tr>\n",
       "    <tr>\n",
       "      <th>498619</th>\n",
       "      <td>2017</td>\n",
       "      <td>Duke Energy Corporation</td>\n",
       "      <td>Absolute and intensity targets</td>\n",
       "    </tr>\n",
       "    <tr>\n",
       "      <th>498636</th>\n",
       "      <td>2017</td>\n",
       "      <td>Exxon Mobil Corporation</td>\n",
       "      <td>No</td>\n",
       "    </tr>\n",
       "    <tr>\n",
       "      <th>498778</th>\n",
       "      <td>2017</td>\n",
       "      <td>NRG Energy Inc</td>\n",
       "      <td>Absolute target</td>\n",
       "    </tr>\n",
       "    <tr>\n",
       "      <th>498912</th>\n",
       "      <td>2017</td>\n",
       "      <td>Wal-Mart Stores, Inc.</td>\n",
       "      <td>Absolute target</td>\n",
       "    </tr>\n",
       "  </tbody>\n",
       "</table>\n",
       "</div>"
      ],
      "text/plain": [
       "        Project Year                                Company  \\\n",
       "28777           2015                    The AES Corporation   \n",
       "28789           2015                            Alcoa Corp.   \n",
       "28792           2015                            Allete Inc.   \n",
       "28801           2015  American Electric Power Company, Inc.   \n",
       "28929           2015                Duke Energy Corporation   \n",
       "28951           2015                Exxon Mobil Corporation   \n",
       "29100           2015                         NRG Energy Inc   \n",
       "29129           2015                          Praxair, Inc.   \n",
       "29236           2015                  Wal-Mart Stores, Inc.   \n",
       "29828           2015               VXI GLOBAL SOLUTIONS INC   \n",
       "257551          2016                    The AES Corporation   \n",
       "257561          2016                            Alcoa Corp.   \n",
       "257571          2016  American Electric Power Company, Inc.   \n",
       "257697          2016                Duke Energy Corporation   \n",
       "257714          2016                Exxon Mobil Corporation   \n",
       "257869          2016                         NRG Energy Inc   \n",
       "257901          2016                          Praxair, Inc.   \n",
       "258545          2016               VXI GLOBAL SOLUTIONS INC   \n",
       "498472          2017                    The AES Corporation   \n",
       "498482          2017                            Alcoa Corp.   \n",
       "498492          2017  American Electric Power Company, Inc.   \n",
       "498619          2017                Duke Energy Corporation   \n",
       "498636          2017                Exxon Mobil Corporation   \n",
       "498778          2017                         NRG Energy Inc   \n",
       "498912          2017                  Wal-Mart Stores, Inc.   \n",
       "\n",
       "                       Response Answer  \n",
       "28777                  Absolute target  \n",
       "28789                 Intensity target  \n",
       "28792                 Intensity target  \n",
       "28801                  Absolute target  \n",
       "28929   Absolute and intensity targets  \n",
       "28951                               No  \n",
       "29100                  Absolute target  \n",
       "29129   Absolute and intensity targets  \n",
       "29236   Absolute and intensity targets  \n",
       "29828                  Absolute target  \n",
       "257551                 Absolute target  \n",
       "257561  Absolute and intensity targets  \n",
       "257571                 Absolute target  \n",
       "257697  Absolute and intensity targets  \n",
       "257714                              No  \n",
       "257869                 Absolute target  \n",
       "257901  Absolute and intensity targets  \n",
       "258545                 Absolute target  \n",
       "498472                 Absolute target  \n",
       "498482                Intensity target  \n",
       "498492                 Absolute target  \n",
       "498619  Absolute and intensity targets  \n",
       "498636                              No  \n",
       "498778                 Absolute target  \n",
       "498912                 Absolute target  "
      ]
     },
     "execution_count": 269,
     "metadata": {},
     "output_type": "execute_result"
    }
   ],
   "source": [
    "df_target_emissions_company_year = df_target_emissions_company[df_target_emissions_company['Company'].isin([\"VXI GLOBAL SOLUTIONS INC\", \"Wal-Mart Stores, Inc.\", \"Allete Inc.\", \"Alcoa Corp.\", \"Praxair, Inc.\", \"Exxon Mobil Corporation\", \"American Electric Power Company, Inc.\", \"Duke Energy Corporation\", \"The AES Corporation\", \"NRG Energy Inc\"])]\n",
    "df_target_emissions_company_year\n"
   ]
  },
  {
   "cell_type": "code",
   "execution_count": null,
   "metadata": {},
   "outputs": [],
   "source": []
  },
  {
   "cell_type": "code",
   "execution_count": 278,
   "metadata": {},
   "outputs": [
    {
     "data": {
      "text/plain": [
       "Response Answer\n",
       "Absolute and intensity targets     7\n",
       "Absolute target                   12\n",
       "Intensity target                   3\n",
       "No                                 3\n",
       "dtype: int64"
      ]
     },
     "execution_count": 278,
     "metadata": {},
     "output_type": "execute_result"
    }
   ],
   "source": [
    "grouped = df_target_emissions_company_year.groupby('Response Answer')\n",
    "grouped.groups\n",
    "grouped.size()"
   ]
  },
  {
   "cell_type": "code",
   "execution_count": 286,
   "metadata": {},
   "outputs": [
    {
     "data": {
      "text/plain": [
       "Project Year\n",
       "2015    10\n",
       "2016     8\n",
       "2017     7\n",
       "dtype: int64"
      ]
     },
     "execution_count": 286,
     "metadata": {},
     "output_type": "execute_result"
    }
   ],
   "source": [
    "grouped_year = df_target_emissions_company_year.groupby('Project Year')\n",
    "grouped_year.size()"
   ]
  },
  {
   "cell_type": "code",
   "execution_count": 310,
   "metadata": {},
   "outputs": [
    {
     "data": {
      "text/plain": [
       "<matplotlib.collections.PathCollection at 0x1a3490d6a0>"
      ]
     },
     "execution_count": 310,
     "metadata": {},
     "output_type": "execute_result"
    },
    {
     "data": {
      "image/png": "[encoded data removed]",
      "text/plain": [
       "<Figure size 432x288 with 1 Axes>"
      ]
     },
     "metadata": {},
     "output_type": "display_data"
    }
   ],
   "source": [
    "df_target_emissions_company_year_2015 = df_target_emissions_company_year[df_target_emissions_company_year['Project Year'].isin(['2015'])]\n",
    "df_target_emissions_company_year_2015\n",
    "#y = df_target_emissions_company_year_2015[\"Response Answer\"].value_counts()\n",
    "plt.scatter(df_target_emissions_company_year_2015['Response Answer'], df_target_emissions_company_year_2015['Company'], c = \"Blue\")\n",
    "\n"
   ]
  },
  {
   "cell_type": "markdown",
   "metadata": {},
   "source": [
    "From the above graph it is clear that VXI global solutions with highest scope2 co2 emissions have Absolute target whereas Exxon with highest scope1 co2 emisssions have no targets set up in 2015. Let us check for 2016 and 2017."
   ]
  },
  {
   "cell_type": "code",
   "execution_count": 312,
   "metadata": {},
   "outputs": [
    {
     "data": {
      "text/plain": [
       "<matplotlib.collections.PathCollection at 0x1a34962748>"
      ]
     },
     "execution_count": 312,
     "metadata": {},
     "output_type": "execute_result"
    },
    {
     "data": {
      "image/png": "[encoded data removed]",
      "text/plain": [
       "<Figure size 432x288 with 1 Axes>"
      ]
     },
     "metadata": {},
     "output_type": "display_data"
    }
   ],
   "source": [
    "df_target_emissions_company_year_2016 = df_target_emissions_company_year[df_target_emissions_company_year['Project Year'].isin(['2016'])]\n",
    "df_target_emissions_company_year_2016\n",
    "#y = df_target_emissions_company_year_2015[\"Response Answer\"].value_counts()\n",
    "plt.scatter(df_target_emissions_company_year_2016['Response Answer'], df_target_emissions_company_year_2016['Company'], c = \"Blue\")\n"
   ]
  },
  {
   "cell_type": "markdown",
   "metadata": {},
   "source": [
    "Similarly, VXI global solutions with highest scope2 co2 emissions have Absolute target whereas Exxon with highest scope1 co2 emisssions have no targets set up in 2016.\n"
   ]
  },
  {
   "cell_type": "code",
   "execution_count": 313,
   "metadata": {},
   "outputs": [
    {
     "data": {
      "text/plain": [
       "<matplotlib.collections.PathCollection at 0x1a349933c8>"
      ]
     },
     "execution_count": 313,
     "metadata": {},
     "output_type": "execute_result"
    },
    {
     "data": {
      "image/png": "[encoded data removed]",
      "text/plain": [
       "<Figure size 432x288 with 1 Axes>"
      ]
     },
     "metadata": {},
     "output_type": "display_data"
    }
   ],
   "source": [
    "df_target_emissions_company_year_2017 = df_target_emissions_company_year[df_target_emissions_company_year['Project Year'].isin(['2017'])]\n",
    "df_target_emissions_company_year_2017\n",
    "#y = df_target_emissions_company_year_2015[\"Response Answer\"].value_counts()\n",
    "plt.scatter(df_target_emissions_company_year_2017['Response Answer'], df_target_emissions_company_year_2017['Company'], c = \"Blue\")\n"
   ]
  },
  {
   "cell_type": "markdown",
   "metadata": {},
   "source": [
    "VXI global solutions with highest scope2 co2 emissions have not reported any target whereas Exxon with highest scope1 co2 emisssions have no targets set up in 2017. "
   ]
  },
  {
   "cell_type": "markdown",
   "metadata": {},
   "source": [
    "Exxon mobile has reported to have maximum global co2 emissions and reported as not following any emission reduction steps."
   ]
  }
 ],
 "metadata": {
  "kernelspec": {
   "display_name": "Python 3",
   "language": "python",
   "name": "python3"
  },
  "language_info": {
   "codemirror_mode": {
    "name": "ipython",
    "version": 3
   },
   "file_extension": ".py",
   "mimetype": "text/x-python",
   "name": "python",
   "nbconvert_exporter": "python",
   "pygments_lexer": "ipython3",
   "version": "3.7.0"
  }
 },
 "nbformat": 4,
 "nbformat_minor": 2
}
